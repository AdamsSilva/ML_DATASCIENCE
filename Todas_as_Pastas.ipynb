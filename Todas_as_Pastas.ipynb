{
  "nbformat": 4,
  "nbformat_minor": 0,
  "metadata": {
    "colab": {
      "provenance": [],
      "authorship_tag": "ABX9TyPbj3zhd24PPhqUz6tXT8AB",
      "include_colab_link": true
    },
    "kernelspec": {
      "name": "python3",
      "display_name": "Python 3"
    },
    "language_info": {
      "name": "python"
    }
  },
  "cells": [
    {
      "cell_type": "markdown",
      "metadata": {
        "id": "view-in-github",
        "colab_type": "text"
      },
      "source": [
        "<a href=\"https://colab.research.google.com/github/AdamsSilva/ML_DATASCIENCE/blob/main/Todas_as_Pastas.ipynb\" target=\"_parent\"><img src=\"https://colab.research.google.com/assets/colab-badge.svg\" alt=\"Open In Colab\"/></a>"
      ]
    },
    {
      "cell_type": "code",
      "source": [
        "def preco_final(preco, **adicionais):\n",
        "  print(adicionais)\n",
        "  if 'desconto' in adicionais:\n",
        "    preco *= (1- adicionais['desconto'])\n",
        "  if 'garantia_extra' in adicionais:\n",
        "    preco += adicionais['garantia_extra']\n",
        "  if 'imposto' in adicionais:\n",
        "    preco *= (1+ adicionais['imposto'])\n",
        "  return preco"
      ],
      "metadata": {
        "id": "VLUO8_b9TPog"
      },
      "execution_count": 9,
      "outputs": []
    },
    {
      "cell_type": "code",
      "source": [
        "print(preco_final(1000, garantia_extra= 100, desconto = 0.1))"
      ],
      "metadata": {
        "id": "nMLwVLOhT6OO",
        "outputId": "b40e761e-3840-4220-f6dd-97a622a5f2ae",
        "colab": {
          "base_uri": "https://localhost:8080/"
        }
      },
      "execution_count": 10,
      "outputs": [
        {
          "output_type": "stream",
          "name": "stdout",
          "text": [
            "{'garantia_extra': 100, 'desconto': 0.1}\n",
            "1000.0\n"
          ]
        }
      ]
    },
    {
      "cell_type": "code",
      "source": [],
      "metadata": {
        "id": "bCZgsnE8Ukov"
      },
      "execution_count": null,
      "outputs": []
    }
  ]
}