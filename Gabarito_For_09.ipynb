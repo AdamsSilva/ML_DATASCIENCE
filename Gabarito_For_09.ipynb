{
  "cells": [
    {
      "cell_type": "markdown",
      "metadata": {
        "id": "view-in-github",
        "colab_type": "text"
      },
      "source": [
        "<a href=\"https://colab.research.google.com/github/AdamsSilva/ML_DATASCIENCE/blob/main/Gabarito_For_09.ipynb\" target=\"_parent\"><img src=\"https://colab.research.google.com/assets/colab-badge.svg\" alt=\"Open In Colab\"/></a>"
      ]
    },
    {
      "cell_type": "markdown",
      "metadata": {
        "id": "ITwHe91tXp4z"
      },
      "source": [
        "# For dentro de For\n",
        "\n",
        "Quando temos listas dentro de listas, às vezes precisamos fazer um \"for dentro de for\""
      ]
    },
    {
      "cell_type": "code",
      "source": [],
      "metadata": {
        "id": "YZHdQhjbX14L"
      },
      "execution_count": null,
      "outputs": []
    },
    {
      "cell_type": "raw",
      "metadata": {
        "id": "HJ7GrWy2Xp43"
      },
      "source": [
        "for item in lista:\n",
        "    for item2 in lista2:\n",
        "        codigo aqui"
      ]
    },
    {
      "cell_type": "markdown",
      "metadata": {
        "id": "1GO2mopLXp44"
      },
      "source": [
        "Vamos pegar um exemplo de nível mínimo de estoque. Em uma fábrica você tem vários produtos e não pode deixar que os produtos fiquem em falta. Para isso, foi definido uma quantidade mínima de estoque que os produtos precisam ter:\n",
        "\n",
        "Identifique quais fábricas tem algum produto abaixo do nível de estoque\n",
        "\n",
        "- Agora ao invés de analisar o estoque de apenas 1 fábrica, vamos analisar o estoque de várias fábricas"
      ]
    },
    {
      "cell_type": "code",
      "execution_count": null,
      "metadata": {
        "id": "lTJvL5k4Xp45",
        "outputId": "9acf30ae-00a6-47e8-e8d7-36a254607c0f"
      },
      "outputs": [
        {
          "name": "stdout",
          "output_type": "stream",
          "text": [
            "['Lira Manufacturing', 'Fábrica Hashtag', 'Python Manufaturas']\n"
          ]
        }
      ],
      "source": [
        "estoque = [\n",
        "    [294, 125, 269, 208, 783, 852, 259, 371, 47, 102, 386, 87, 685, 686, 697, 941, 163, 631, 7, 714, 218, 670, 453],\n",
        "    [648, 816, 310, 555, 992, 643, 226, 319, 501, 23, 239, 42, 372, 441, 126, 645, 927, 911, 761, 445, 974, 2, 549],\n",
        "    [832, 683, 784, 449, 977, 705, 198, 937, 729, 327, 339, 10, 975, 310, 95, 689, 137, 795, 211, 538, 933, 751, 522],\n",
        "    [837, 168, 570, 397, 53, 297, 966, 714, 72, 737, 259, 629, 625, 469, 922, 305, 782, 243, 841, 848, 372, 621, 362],\n",
        "    [429, 242, 53, 985, 406, 186, 198, 50, 501, 870, 781, 632, 781, 105, 644, 509, 401, 88, 961, 765, 422, 340, 654],\n",
        "]\n",
        "fabricas = ['Lira Manufacturing', 'Fábrica Hashtag', 'Python Manufaturas', 'Produções e Cia', 'Manufatura e Cia']\n",
        "nivel_minimo = 50\n",
        "fabricas_abaixo_nivel = []\n",
        "\n",
        "\n",
        "for i, lista in enumerate(estoque):\n",
        "    #se dentro daquela lista tem alguem abaixo do nível minimo\n",
        "    for qtde in lista:\n",
        "        if qtde < nivel_minimo:\n",
        "            if fabricas[i] in fabricas_abaixo_nivel:\n",
        "                pass\n",
        "            else:\n",
        "                fabricas_abaixo_nivel.append(fabricas[i])\n",
        "\n",
        "\n",
        "print(fabricas_abaixo_nivel)"
      ]
    },
    {
      "cell_type": "code",
      "source": [
        "estoque = [\n",
        "    [294, 125, 269, 208, 783, 852, 259, 371, 47, 102, 386, 87, 685, 686, 697, 941, 163, 631, 7, 714, 218, 670, 453],\n",
        "    [648, 816, 310, 555, 992, 643, 226, 319, 501, 23, 239, 42, 372, 441, 126, 645, 927, 911, 761, 445, 974, 2, 549],\n",
        "    [832, 683, 784, 449, 977, 705, 198, 937, 729, 327, 339, 10, 975, 310, 95, 689, 137, 795, 211, 538, 933, 751, 522],\n",
        "    [837, 168, 570, 397, 53, 297, 966, 714, 72, 737, 259, 629, 625, 469, 922, 305, 782, 243, 841, 848, 372, 621, 362],\n",
        "    [429, 242, 53, 985, 406, 186, 198, 50, 501, 870, 781, 632, 781, 105, 644, 509, 401, 88, 961, 765, 422, 340, 654],\n",
        "]\n",
        "fabricas = ['Lira Manufacturing', 'Fábrica Hashtag', 'Python Manufaturas', 'Produções e Cia', 'Manufatura e Cia']\n",
        "nivel_minimo = 50"
      ],
      "metadata": {
        "id": "wR8pgJYaX4ZJ"
      },
      "execution_count": 2,
      "outputs": []
    },
    {
      "cell_type": "code",
      "source": [
        "fabricas_abaixo_nivel = []\n",
        "#aqui estamos iterando pelo indice, cada lista dentro da lista ESTOQUE\n",
        "for i, lista in enumerate(estoque):\n",
        "  for qtd in lista: #para cada item dentro da lista(Estoque > lista > qtd)\n",
        "    if qtd < nivel_minimo: #se o valor unitário de cada item dentro da lista for menor que a quantidade mínima\n",
        "      if fabricas[i] in fabricas_abaixo_nivel: #se na lista fábricas(usando o mesmo \"i\" indice do for) já estiver dentro da lista fabricas_abaixo_nivel, passe\n",
        "        pass\n",
        "      else: #caso a fábrica não esteja dentro da lista...\n",
        "        fabricas_abaixo_nivel.append(fabricas[i])  #...adicione"
      ],
      "metadata": {
        "id": "3c0kOtxIX4Wc"
      },
      "execution_count": 4,
      "outputs": []
    },
    {
      "cell_type": "code",
      "source": [
        "print(fabricas_abaixo_nivel) #  printando aqui as fábricas que tiveram estoque menor que o nível_minimo"
      ],
      "metadata": {
        "colab": {
          "base_uri": "https://localhost:8080/"
        },
        "id": "363GtzFaX4UR",
        "outputId": "7c538591-263c-42b5-c4e1-5c763b567676"
      },
      "execution_count": 5,
      "outputs": [
        {
          "output_type": "stream",
          "name": "stdout",
          "text": [
            "['Lira Manufacturing', 'Fábrica Hashtag', 'Python Manufaturas']\n"
          ]
        }
      ]
    },
    {
      "cell_type": "code",
      "source": [],
      "metadata": {
        "id": "RcHKrrzRapC5"
      },
      "execution_count": null,
      "outputs": []
    },
    {
      "cell_type": "code",
      "source": [],
      "metadata": {
        "id": "I4Mm1jwiYqox"
      },
      "execution_count": null,
      "outputs": []
    },
    {
      "cell_type": "code",
      "source": [],
      "metadata": {
        "id": "ukMtumGaX4SS"
      },
      "execution_count": null,
      "outputs": []
    },
    {
      "cell_type": "code",
      "source": [],
      "metadata": {
        "id": "2DI6PTNiX4Px"
      },
      "execution_count": null,
      "outputs": []
    },
    {
      "cell_type": "code",
      "source": [],
      "metadata": {
        "id": "Q3B10dU4X4N5"
      },
      "execution_count": null,
      "outputs": []
    },
    {
      "cell_type": "code",
      "source": [],
      "metadata": {
        "id": "VMOljfieX4LJ"
      },
      "execution_count": null,
      "outputs": []
    },
    {
      "cell_type": "code",
      "source": [],
      "metadata": {
        "id": "uuHot9tZX4H6"
      },
      "execution_count": null,
      "outputs": []
    },
    {
      "cell_type": "code",
      "source": [],
      "metadata": {
        "id": "HFhl7qNKX4Fi"
      },
      "execution_count": null,
      "outputs": []
    },
    {
      "cell_type": "code",
      "source": [],
      "metadata": {
        "id": "Q2b_U42tX4Ds"
      },
      "execution_count": null,
      "outputs": []
    },
    {
      "cell_type": "code",
      "source": [],
      "metadata": {
        "id": "1CEzAN2uX4BZ"
      },
      "execution_count": null,
      "outputs": []
    },
    {
      "cell_type": "code",
      "source": [],
      "metadata": {
        "id": "K6dyvR-6X3_Z"
      },
      "execution_count": null,
      "outputs": []
    },
    {
      "cell_type": "code",
      "source": [],
      "metadata": {
        "id": "QwYawHRFX39M"
      },
      "execution_count": null,
      "outputs": []
    },
    {
      "cell_type": "code",
      "source": [],
      "metadata": {
        "id": "8yYoy_lWX37D"
      },
      "execution_count": null,
      "outputs": []
    },
    {
      "cell_type": "code",
      "source": [],
      "metadata": {
        "id": "fE7K77ofX34x"
      },
      "execution_count": null,
      "outputs": []
    },
    {
      "cell_type": "code",
      "source": [],
      "metadata": {
        "id": "4NCLXSX9X32r"
      },
      "execution_count": null,
      "outputs": []
    },
    {
      "cell_type": "code",
      "source": [],
      "metadata": {
        "id": "fl7UVjCaX30j"
      },
      "execution_count": null,
      "outputs": []
    },
    {
      "cell_type": "code",
      "source": [],
      "metadata": {
        "id": "O7y8ecTNX3yR"
      },
      "execution_count": null,
      "outputs": []
    },
    {
      "cell_type": "code",
      "source": [],
      "metadata": {
        "id": "yGfKeq6IX3wB"
      },
      "execution_count": null,
      "outputs": []
    },
    {
      "cell_type": "code",
      "source": [],
      "metadata": {
        "id": "3HB4-IOUX3tp"
      },
      "execution_count": null,
      "outputs": []
    },
    {
      "cell_type": "code",
      "source": [],
      "metadata": {
        "id": "Dg8bV4uVX3rC"
      },
      "execution_count": null,
      "outputs": []
    },
    {
      "cell_type": "code",
      "source": [],
      "metadata": {
        "id": "7WQg4s_IX3iy"
      },
      "execution_count": null,
      "outputs": []
    }
  ],
  "metadata": {
    "kernelspec": {
      "display_name": "Python 3",
      "language": "python",
      "name": "python3"
    },
    "language_info": {
      "codemirror_mode": {
        "name": "ipython",
        "version": 3
      },
      "file_extension": ".py",
      "mimetype": "text/x-python",
      "name": "python",
      "nbconvert_exporter": "python",
      "pygments_lexer": "ipython3",
      "version": "3.8.3"
    },
    "colab": {
      "provenance": [],
      "include_colab_link": true
    }
  },
  "nbformat": 4,
  "nbformat_minor": 0
}