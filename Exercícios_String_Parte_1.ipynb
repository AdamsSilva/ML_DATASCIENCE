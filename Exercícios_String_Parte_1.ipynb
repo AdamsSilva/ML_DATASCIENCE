{
  "cells": [
    {
      "cell_type": "markdown",
      "metadata": {
        "id": "view-in-github",
        "colab_type": "text"
      },
      "source": [
        "<a href=\"https://colab.research.google.com/github/AdamsSilva/ML_DATASCIENCE/blob/main/Exerc%C3%ADcios_String_Parte_1.ipynb\" target=\"_parent\"><img src=\"https://colab.research.google.com/assets/colab-badge.svg\" alt=\"Open In Colab\"/></a>"
      ]
    },
    {
      "cell_type": "markdown",
      "metadata": {
        "id": "HrHqpG5NsrZE"
      },
      "source": [
        "# Exercícios\n",
        "\n",
        "## 1. Cadastro de CPF\n",
        "\n",
        "Crie um programa para cadastro de CPF de clientes que recebe o CPF em um input box apenas com números.\n",
        "\n",
        "Ex: 'Insira seu CPF (digite apenas números)'\n",
        "\n",
        "Caso o usuário digite algo diferente de números ou digite menos de 11 caracteres (tamanho do CPF brasileiro), o programa deve exibir uma mensagem de \"Digite seu CPF corretamente e digite apenas números\""
      ]
    },
    {
      "cell_type": "code",
      "execution_count": 5,
      "metadata": {
        "colab": {
          "base_uri": "https://localhost:8080/"
        },
        "id": "3-SfdznBsrZG",
        "outputId": "5cef83df-b08f-4edb-feef-932a18d86705"
      },
      "outputs": [
        {
          "output_type": "stream",
          "name": "stdout",
          "text": [
            "Digita aqui seu CPF:06420450462\n",
            "06420450462\n"
          ]
        }
      ],
      "source": [
        "# PROGRAMA PARA INSERIR CPF\n",
        "\n",
        "cpf = input('Digita aqui seu CPF:')\n",
        "\n",
        "if len(cpf) == 11 and cpf.isnumeric():\n",
        "    print(cpf)\n",
        "else:\n",
        "    print('Digite seu CPF corretamente e digite apenas números')\n"
      ]
    },
    {
      "cell_type": "code",
      "source": [],
      "metadata": {
        "id": "SyxBZL3WtIE4"
      },
      "execution_count": null,
      "outputs": []
    },
    {
      "cell_type": "markdown",
      "metadata": {
        "id": "BXYk8QFFsrZH"
      },
      "source": [
        "## 2. Melhorando nosso Cadastro de CPF\n",
        "\n",
        "Agora, além das validações anteriores, vamos criar um input que permita que o usuário insira pontos, traços e inclusive espaços vazios.\n",
        "\n",
        "Nosso programa deve \"tratar\" o que o usuário inserir para padronizar o CPF dele em apenas números.\n",
        "\n",
        "A verificação de tamanho do CPF com 11 caracteres continua válida, mas ela só deve ser feita depois de retirar todos os pontos, traços e espaços do CPF que o cliente inserir e, uma vez retirados pontos, traços e espaços, devem sobrar apenas números no CPF. Qualquer outro caractere deve ser considerado inválido.\n",
        "\n",
        "No final, nosso programa deve exibir uma mensagem para o usuário, caso ele tenha inserido o CPF inválido ou então apenas deve printar o CPF correto já só com número."
      ]
    },
    {
      "cell_type": "code",
      "execution_count": null,
      "metadata": {
        "id": "bVuGtR0XsrZI"
      },
      "outputs": [],
      "source": []
    },
    {
      "cell_type": "markdown",
      "metadata": {
        "id": "ZqRS6P_6srZI"
      },
      "source": [
        "## 3. Cadastro de e-mails\n",
        "\n",
        "- A Hashtag sempre se comunica com seus clientes por e-mail. Para isso, a gente tem em cada página um cadastro de nome e e-mail. Nesse cadastro, nosso sistema verifica se o e-mail que a pessoa inseriu é um e-mail válido, verificando se ele tem '@' e se depois do '@' tem algum ponto, afinal:\n",
        "\n",
        "- liragmail.com NÃO é um e-mail válido\n",
        "- lira@gmail NÃO é um e-mail válido\n",
        "- lira@gmail.com é um e-mail válido\n",
        "\n",
        "Crie um programa que permita o cadastro de nome e e-mail de uma pessoa (por meio de inputs) e que verifique:\n",
        "1. Se nome e e-mail foram preenchidos, caso contrário ele deve avisar para preencher todos os dados corretamente\n",
        "2. Se o e-mail contém '@' e se depois do '@' existe algum '.', caso contrário ele deve exibir uma mensagem de e-mail inválido\n",
        "\n",
        "Obs: Pode te ajudar lembrar do método .find da aula de Métodos de String. Você pode testar o que ele dá como resposta caso ele não encontre um item dentro da string"
      ]
    },
    {
      "cell_type": "code",
      "execution_count": 7,
      "metadata": {
        "colab": {
          "base_uri": "https://localhost:8080/"
        },
        "id": "fzhnR3OcsrZJ",
        "outputId": "e2dd184d-02cb-4f01-b2e6-96253072db17"
      },
      "outputs": [
        {
          "output_type": "stream",
          "name": "stdout",
          "text": [
            "Digita aqui seu CPF:064a504a504a-62\n",
            "Não vou falar novamente. CPF incorreto\n"
          ]
        }
      ],
      "source": [
        "cpf = input('Digita aqui seu CPF:')\n",
        "\n",
        "# tirando os caracteres indesejados\n",
        "#remove espaço em branco\n",
        "cpf = cpf.strip()\n",
        "#troca  ponto por vazio\n",
        "cpf = cpf.replace('.', '')\n",
        "#troca traço  por vazio\n",
        "cpf = cpf.replace('-', '')\n",
        "\n",
        "if len(cpf) == 11 and cpf.isnumeric():\n",
        "    print(cpf)\n",
        "else:\n",
        "  print('Não vou falar novamente. CPF incorreto')\n"
      ]
    },
    {
      "cell_type": "code",
      "source": [
        "# EXERCICIO EMAIL\n",
        "\n",
        "\n",
        "nome = input('nome')\n",
        "email = input('email')\n",
        "\n",
        "if nome and email:\n",
        "  pos_a = email.find('@')\n",
        "  servidor_email = email[pos_a:]\n",
        "  if pos_a  != -1 and '.' in servidor_email:\n",
        "    print('Cadastro concluido!')\n",
        "  else:\n",
        "    print('email inválido')\n",
        "else:\n",
        "  print('Digite seu email corretamente')"
      ],
      "metadata": {
        "colab": {
          "base_uri": "https://localhost:8080/"
        },
        "id": "QMk6_8lGyEas",
        "outputId": "96b6f5be-dea0-41b9-ce3e-acdfb2b5adb0"
      },
      "execution_count": 18,
      "outputs": [
        {
          "output_type": "stream",
          "name": "stdout",
          "text": [
            "nome\n",
            "emailadm@live.com\n",
            "Digite seu email corretamente\n"
          ]
        }
      ]
    },
    {
      "cell_type": "code",
      "source": [],
      "metadata": {
        "id": "7BX3dHQ3yEkw"
      },
      "execution_count": 18,
      "outputs": []
    },
    {
      "cell_type": "code",
      "source": [
        "#CORTES EM STRINGS\n",
        "\n",
        "\n",
        "\n"
      ],
      "metadata": {
        "id": "4NPagubVyEnQ"
      },
      "execution_count": null,
      "outputs": []
    },
    {
      "cell_type": "code",
      "source": [],
      "metadata": {
        "id": "ZpidlYsHyEpg"
      },
      "execution_count": null,
      "outputs": []
    },
    {
      "cell_type": "code",
      "source": [],
      "metadata": {
        "id": "wN57FDSFyEsH"
      },
      "execution_count": null,
      "outputs": []
    },
    {
      "cell_type": "code",
      "source": [],
      "metadata": {
        "id": "5wLa2YKsyEuF"
      },
      "execution_count": null,
      "outputs": []
    },
    {
      "cell_type": "code",
      "source": [],
      "metadata": {
        "id": "YPxQih31yEwA"
      },
      "execution_count": null,
      "outputs": []
    }
  ],
  "metadata": {
    "kernelspec": {
      "display_name": "Python 3",
      "language": "python",
      "name": "python3"
    },
    "language_info": {
      "codemirror_mode": {
        "name": "ipython",
        "version": 3
      },
      "file_extension": ".py",
      "mimetype": "text/x-python",
      "name": "python",
      "nbconvert_exporter": "python",
      "pygments_lexer": "ipython3",
      "version": "3.8.3"
    },
    "colab": {
      "provenance": [],
      "include_colab_link": true
    }
  },
  "nbformat": 4,
  "nbformat_minor": 0
}