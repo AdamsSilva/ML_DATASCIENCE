{
  "nbformat": 4,
  "nbformat_minor": 0,
  "metadata": {
    "colab": {
      "provenance": [],
      "authorship_tag": "ABX9TyPUlQ7qb1Zlgg/caXX8YScj",
      "include_colab_link": true
    },
    "kernelspec": {
      "name": "python3",
      "display_name": "Python 3"
    },
    "language_info": {
      "name": "python"
    }
  },
  "cells": [
    {
      "cell_type": "markdown",
      "metadata": {
        "id": "view-in-github",
        "colab_type": "text"
      },
      "source": [
        "<a href=\"https://colab.research.google.com/github/AdamsSilva/ML_DATASCIENCE/blob/main/C%C3%B3pia_de_Python_para_Engenheiros.ipynb\" target=\"_parent\"><img src=\"https://colab.research.google.com/assets/colab-badge.svg\" alt=\"Open In Colab\"/></a>"
      ]
    },
    {
      "cell_type": "code",
      "execution_count": null,
      "metadata": {
        "id": "VlTwvUNsBlLm"
      },
      "outputs": [],
      "source": []
    },
    {
      "cell_type": "code",
      "source": [
        "from time import time\n",
        "\n",
        "lista_1 = list(range(10**6))\n",
        "soma_1 = 0\n",
        "\n",
        "for i in lista_1:\n",
        "  soma_1 +=i\n",
        "print(soma_1)\n",
        "\n",
        "\n",
        "inicio = time()\n",
        "fim = time()\n",
        "tempo_1 = fim - inicio"
      ],
      "metadata": {
        "colab": {
          "base_uri": "https://localhost:8080/"
        },
        "id": "kGdF8_rFFi5Z",
        "outputId": "05e6f8cf-4010-40ca-b9c5-dc1da34ed1db"
      },
      "execution_count": null,
      "outputs": [
        {
          "output_type": "stream",
          "name": "stdout",
          "text": [
            "499999500000\n"
          ]
        }
      ]
    },
    {
      "cell_type": "code",
      "source": [
        "import numpy as np\n",
        "arr = np.array(lista_1, dtype=float)\n",
        "soma_2 = arr.sum()\n",
        "\n",
        "fim = time()\n",
        "tempo_2 = fim - inicio\n",
        "print(soma_2)\n",
        "print(tempo_2)\n"
      ],
      "metadata": {
        "colab": {
          "base_uri": "https://localhost:8080/"
        },
        "id": "2gN7S5yJFwBd",
        "outputId": "9b16661b-b644-410b-c480-49fa0e1ce55d"
      },
      "execution_count": null,
      "outputs": [
        {
          "output_type": "stream",
          "name": "stdout",
          "text": [
            "499999500000.0\n",
            "5.266546964645386\n"
          ]
        }
      ]
    },
    {
      "cell_type": "code",
      "source": [
        "tempo_2/tempo_1"
      ],
      "metadata": {
        "id": "ZiwGpFxjG-5p"
      },
      "execution_count": null,
      "outputs": []
    },
    {
      "cell_type": "markdown",
      "source": [
        "8.1 ARRAY\n",
        "LISTA TEM DUAS DIMENSÕES\n",
        "MATRIZ TEM DUAS DIMENSÕES\n",
        "ARRAY TEM \"N\" DIMENSÕES"
      ],
      "metadata": {
        "id": "NC2ug3lxJYbG"
      }
    },
    {
      "cell_type": "code",
      "source": [
        "A_1 = np.array([1,1,1])\n",
        "A_1.shape\n",
        "\n",
        "# 01 linha"
      ],
      "metadata": {
        "id": "_E6StArZII-9"
      },
      "execution_count": null,
      "outputs": []
    },
    {
      "cell_type": "code",
      "source": [
        "A_1super = np.array([[1,1,1]])\n",
        "A_1super\n",
        "# 1 linha e 03 colunas"
      ],
      "metadata": {
        "id": "oyUF3qzOLp1m"
      },
      "execution_count": null,
      "outputs": []
    },
    {
      "cell_type": "code",
      "source": [
        "a_2 =  np.array([[1,2,3],[4,5,6]])\n",
        "a_2.shape\n",
        "a_2\n",
        "#duas linhas e 3 colunas"
      ],
      "metadata": {
        "id": "KhAccNChLtUu"
      },
      "execution_count": null,
      "outputs": []
    },
    {
      "cell_type": "code",
      "source": [
        "a_2.size\n",
        "#quantide de itens"
      ],
      "metadata": {
        "id": "oJKCDz7LMu_h"
      },
      "execution_count": null,
      "outputs": []
    },
    {
      "cell_type": "code",
      "source": [
        "a_2.ndim\n",
        "#dimensões"
      ],
      "metadata": {
        "id": "9i7l53zDMyL1"
      },
      "execution_count": null,
      "outputs": []
    },
    {
      "cell_type": "code",
      "source": [
        "a_3 =  np.array([['python',2.,.3],[4,5,6]])\n",
        "a_3\n",
        "# AQUI TODOS FORAM CONVERTIDOS PARA STRING"
      ],
      "metadata": {
        "id": "_FjpKMlaNIPt"
      },
      "execution_count": null,
      "outputs": []
    },
    {
      "cell_type": "code",
      "source": [
        "a_4 =  np.array([[3.,2.,.3],[4,5,6]])\n",
        "a_4.shape"
      ],
      "metadata": {
        "id": "M5_sDpbzNleN"
      },
      "execution_count": null,
      "outputs": []
    },
    {
      "cell_type": "code",
      "source": [
        "a_5 =  np.arange(27).reshape(3,3,3)\n",
        "a_5"
      ],
      "metadata": {
        "id": "Ifaam1a9NpqF"
      },
      "execution_count": null,
      "outputs": []
    },
    {
      "cell_type": "code",
      "source": [
        "print('Olá, mundo')"
      ],
      "metadata": {
        "id": "Gebm2-yD4EKY"
      },
      "execution_count": null,
      "outputs": []
    },
    {
      "cell_type": "code",
      "source": [
        "variavel_b = input('Digita aqui ')"
      ],
      "metadata": {
        "id": "bxCh193_4FBq"
      },
      "execution_count": null,
      "outputs": []
    },
    {
      "cell_type": "code",
      "source": [
        "type(variavel_b)"
      ],
      "metadata": {
        "id": "IqHNyRQG4_nq"
      },
      "execution_count": null,
      "outputs": []
    },
    {
      "cell_type": "code",
      "source": [
        "a = type(variavel_b)\n",
        "a"
      ],
      "metadata": {
        "id": "K6PqcKDE5qjn"
      },
      "execution_count": null,
      "outputs": []
    },
    {
      "cell_type": "code",
      "source": [
        "a = 5\n",
        "b = 5.\n",
        "c = a + b"
      ],
      "metadata": {
        "id": "NMFZ7TEb_LKi"
      },
      "execution_count": null,
      "outputs": []
    },
    {
      "cell_type": "code",
      "source": [
        "type(c)"
      ],
      "metadata": {
        "id": "26Hy669_5qDA"
      },
      "execution_count": null,
      "outputs": []
    },
    {
      "cell_type": "code",
      "source": [
        "e = 10**2\n",
        "e"
      ],
      "metadata": {
        "id": "XUkVcAoJA0UX"
      },
      "execution_count": null,
      "outputs": []
    },
    {
      "cell_type": "code",
      "source": [
        "string_numero = '123'\n",
        "n_1 = float(string_numero)\n",
        "n_1 * n_1"
      ],
      "metadata": {
        "id": "1ft7W_k5A0R9"
      },
      "execution_count": null,
      "outputs": []
    },
    {
      "cell_type": "code",
      "source": [
        "a = 'ola \\n mundo'\n",
        "print(a)"
      ],
      "metadata": {
        "id": "QtPqPKyPA0Pv"
      },
      "execution_count": null,
      "outputs": []
    },
    {
      "cell_type": "code",
      "source": [
        "lista_a =  [1,2,3,'adams']\n",
        "lista_a"
      ],
      "metadata": {
        "id": "J2hxSCWRA0NH"
      },
      "execution_count": null,
      "outputs": []
    },
    {
      "cell_type": "code",
      "source": [
        "lista_1 = ['P','Y','T','H','O','M']\n",
        "string_1 = 'PYTHON'"
      ],
      "metadata": {
        "id": "cIAbHrg0FzAD"
      },
      "execution_count": null,
      "outputs": []
    },
    {
      "cell_type": "code",
      "source": [
        "string_1[:3]"
      ],
      "metadata": {
        "id": "_ore10ZJFy-F"
      },
      "execution_count": null,
      "outputs": []
    },
    {
      "cell_type": "code",
      "source": [
        "lista_1[:3]"
      ],
      "metadata": {
        "id": "vbXjZXQrFy7E"
      },
      "execution_count": null,
      "outputs": []
    },
    {
      "cell_type": "code",
      "source": [
        "string_1+string_1"
      ],
      "metadata": {
        "id": "p64JLEeiA0Kl"
      },
      "execution_count": null,
      "outputs": []
    },
    {
      "cell_type": "code",
      "source": [
        "# VALORES BOOLEANOS"
      ],
      "metadata": {
        "id": "U-5hsapPJyY2"
      },
      "execution_count": null,
      "outputs": []
    },
    {
      "cell_type": "code",
      "source": [
        "# CONDICIONAL IF\n",
        "\n",
        "x = 5\n",
        "if x > 3:\n",
        "  print('x é maior que 3')"
      ],
      "metadata": {
        "id": "REESfURoF1h6"
      },
      "execution_count": null,
      "outputs": []
    },
    {
      "cell_type": "code",
      "source": [
        "x = 3\n",
        "\n",
        "if x > 3:\n",
        "  print('x é maior que 3')\n",
        "elif x < 3:\n",
        "  print('x é menor que 3')\n",
        "else:\n",
        "  print('x é igual a 3')"
      ],
      "metadata": {
        "id": "8-ckI0meF1fH"
      },
      "execution_count": null,
      "outputs": []
    },
    {
      "cell_type": "code",
      "source": [
        "x = 'adams'\n",
        "\n",
        "if type(x) is not str:\n",
        "  print('x é um número')\n",
        "else:\n",
        "  print('x é uma string')"
      ],
      "metadata": {
        "id": "9A2CcTvkF1cu"
      },
      "execution_count": null,
      "outputs": []
    },
    {
      "cell_type": "code",
      "source": [
        "lista = ['a','d','s',2., 3]\n",
        "for i in lista:\n",
        "  print(i)"
      ],
      "metadata": {
        "id": "k_gptGM6F1Xu"
      },
      "execution_count": null,
      "outputs": []
    },
    {
      "cell_type": "code",
      "source": [
        "\n",
        "for i in range(len(lista) ):\n",
        "  print(i)"
      ],
      "metadata": {
        "id": "9448zlLDF1V2"
      },
      "execution_count": null,
      "outputs": []
    },
    {
      "cell_type": "code",
      "source": [
        "lista = ['a','d','s',2., 3]\n",
        "\n",
        "for i in enumerate(lista):\n",
        "  print(i)"
      ],
      "metadata": {
        "id": "T0E_KfmuF1TM"
      },
      "execution_count": null,
      "outputs": []
    },
    {
      "cell_type": "code",
      "source": [
        "x = 10\n",
        "while x > 5:\n",
        "  print(x)\n",
        "  x += 1\n",
        "  if x >20:\n",
        "    break"
      ],
      "metadata": {
        "id": "uOah0IOrF1RE"
      },
      "execution_count": null,
      "outputs": []
    },
    {
      "cell_type": "code",
      "source": [
        "x = 0\n",
        "if x > 0:\n",
        "  print('x é positivo')\n",
        "elif x < 0:\n",
        "  print('x é negativo')\n",
        "elif x == 0:\n",
        "  print('zero')"
      ],
      "metadata": {
        "id": "oCCXPh0FF1O3"
      },
      "execution_count": null,
      "outputs": []
    },
    {
      "cell_type": "code",
      "source": [],
      "metadata": {
        "id": "fgkT11P2F1Mj"
      },
      "execution_count": null,
      "outputs": []
    },
    {
      "cell_type": "code",
      "source": [
        "valores = [1,2,3,4,5]\n",
        "letras = ['a','b','c','d','e']"
      ],
      "metadata": {
        "id": "zthVZWHKF1Kd"
      },
      "execution_count": null,
      "outputs": []
    },
    {
      "cell_type": "code",
      "source": [
        "nova_lista = []\n",
        "for i in range(len(valores)):\n",
        "  nova_lista.append([valores[i],letras[i]])"
      ],
      "metadata": {
        "id": "cKdjg0C7F1F7"
      },
      "execution_count": null,
      "outputs": []
    },
    {
      "cell_type": "code",
      "source": [
        "print(nova_lista)"
      ],
      "metadata": {
        "id": "9AJKjBLFF1Db"
      },
      "execution_count": null,
      "outputs": []
    },
    {
      "cell_type": "code",
      "source": [
        "faturamento =2000\n",
        "custo = 500\n",
        "lucro = faturamento - custo\n",
        "print(lucro)\n"
      ],
      "metadata": {
        "colab": {
          "base_uri": "https://localhost:8080/"
        },
        "id": "klbMC6FxF1BE",
        "outputId": "fe4ded6a-fd4c-4a3c-9455-76f6f368e387"
      },
      "execution_count": null,
      "outputs": [
        {
          "output_type": "stream",
          "name": "stdout",
          "text": [
            "1500\n"
          ]
        }
      ]
    },
    {
      "cell_type": "code",
      "source": [
        "print('o faturamento da loja foi de {}. O custo da loja foi {}. Assim, o lucro da loja foi {}'.format(faturamento,custo,lucro))"
      ],
      "metadata": {
        "colab": {
          "base_uri": "https://localhost:8080/"
        },
        "id": "yapDC-7DF0-i",
        "outputId": "ce63e0af-47dd-4a6f-f9d7-0c2e5ab72ea2"
      },
      "execution_count": null,
      "outputs": [
        {
          "output_type": "stream",
          "name": "stdout",
          "text": [
            "o faturamento da loja foi de 2000. O custo da loja foi 500. Assim, o lucro da loja foi 1500\n"
          ]
        }
      ]
    },
    {
      "cell_type": "code",
      "source": [
        "print(type(faturamento))\n",
        "print(type(custo))"
      ],
      "metadata": {
        "colab": {
          "base_uri": "https://localhost:8080/"
        },
        "id": "5x-8HaVAF05s",
        "outputId": "066704c9-5e50-46f2-f881-b0a167977bb6"
      },
      "execution_count": null,
      "outputs": [
        {
          "output_type": "stream",
          "name": "stdout",
          "text": [
            "<class 'int'>\n",
            "<class 'int'>\n"
          ]
        }
      ]
    },
    {
      "cell_type": "code",
      "source": [
        "idade = float(input('Qual sua idade? '))"
      ],
      "metadata": {
        "colab": {
          "base_uri": "https://localhost:8080/"
        },
        "id": "Kq2pOZgrF03L",
        "outputId": "16759c44-e51d-4e4a-cbd4-0e0671b346af"
      },
      "execution_count": null,
      "outputs": [
        {
          "name": "stdout",
          "output_type": "stream",
          "text": [
            "Qual sua idade? 38\n"
          ]
        }
      ]
    },
    {
      "cell_type": "code",
      "source": [
        "print(idade)\n",
        "print(type(idade))"
      ],
      "metadata": {
        "colab": {
          "base_uri": "https://localhost:8080/"
        },
        "id": "D84YXPnFnmbn",
        "outputId": "24470457-e5b9-4572-b516-cec2caa42af6"
      },
      "execution_count": null,
      "outputs": [
        {
          "output_type": "stream",
          "name": "stdout",
          "text": [
            "38.0\n",
            "<class 'float'>\n"
          ]
        }
      ]
    },
    {
      "cell_type": "code",
      "source": [
        "telefone = int(input('Qual seu telefone? '))"
      ],
      "metadata": {
        "colab": {
          "base_uri": "https://localhost:8080/"
        },
        "id": "u9VKxFhMF01G",
        "outputId": "8ffb9ea5-1d47-47ab-a208-d881cf5dd50f"
      },
      "execution_count": null,
      "outputs": [
        {
          "name": "stdout",
          "output_type": "stream",
          "text": [
            "Qual seu telefone? 81998934991\n"
          ]
        }
      ]
    },
    {
      "cell_type": "code",
      "source": [
        "tamanho_do_tel = len(str(telefone))"
      ],
      "metadata": {
        "id": "81Dbmki7F0yl"
      },
      "execution_count": null,
      "outputs": []
    },
    {
      "cell_type": "code",
      "source": [
        "if tamanho_do_tel < 10:\n",
        "  print('telefone invalido')\n",
        "else:\n",
        "  print('telefone valido')"
      ],
      "metadata": {
        "colab": {
          "base_uri": "https://localhost:8080/"
        },
        "id": "5r81yOFuF0wN",
        "outputId": "4d6704fc-7269-4d9b-d907-f5642faa58fd"
      },
      "execution_count": null,
      "outputs": [
        {
          "output_type": "stream",
          "name": "stdout",
          "text": [
            "telefone valido\n"
          ]
        }
      ]
    },
    {
      "cell_type": "markdown",
      "source": [
        "#CONDIÇÃO IF"
      ],
      "metadata": {
        "id": "d_mcKRllqloc"
      }
    },
    {
      "cell_type": "code",
      "source": [
        "meta = 50000\n",
        "qtde_vendida = 110\n",
        "if qtde_vendida >= meta:\n",
        "  print('Batemos a meta de vendas de Iphone, vendemos {} unidades'.format(qtde_vendida))\n",
        "else:print('Não batemos a meta')\n"
      ],
      "metadata": {
        "colab": {
          "base_uri": "https://localhost:8080/"
        },
        "id": "v0foBioqF0tb",
        "outputId": "2166996e-ae97-48d5-c09b-64436e1457af"
      },
      "execution_count": null,
      "outputs": [
        {
          "output_type": "stream",
          "name": "stdout",
          "text": [
            "Não batemos a meta\n"
          ]
        }
      ]
    },
    {
      "cell_type": "code",
      "source": [
        "meta = 0.05\n",
        "taxa = 0\n",
        "rendimento = 0.21\n",
        "if rendimento > meta:\n",
        "  if rendimento > 0.20:\n",
        "    taxa = 0.04\n",
        "    print('A taxa foi de {}'.format(taxa))\n",
        "  else:\n",
        "    taxa = 0.02\n",
        "    print('A taxa foi de {}'.format(taxa))\n",
        "else:\n",
        "    taxa = 0\n",
        "    print('A taxa foi de {}'.format(taxa))"
      ],
      "metadata": {
        "colab": {
          "base_uri": "https://localhost:8080/"
        },
        "id": "1mIzebK4F0rM",
        "outputId": "9a2b70d6-2732-4d10-a2e4-e4de13f78f53"
      },
      "execution_count": null,
      "outputs": [
        {
          "output_type": "stream",
          "name": "stdout",
          "text": [
            "A taxa foi de 0.04\n"
          ]
        }
      ]
    },
    {
      "cell_type": "code",
      "source": [
        "numero1= int(input('Digite o primeiro numero: '))\n",
        "numero2= int(input('Digite o segundo numero: '))\n",
        "\n",
        "if numero1 > numero2:\n",
        "  print('O primeiro numero é {} e é maior que o segundo'.format(numero1))\n",
        "elif numero2 > numero1:\n",
        "  print('O segundo numero é {} e é maior que o primeiro'.format(numero2))\n",
        "else:\n",
        "  print('Os numeros são iguais')"
      ],
      "metadata": {
        "colab": {
          "base_uri": "https://localhost:8080/"
        },
        "id": "RQosWxMcF0od",
        "outputId": "0ea40435-c4a4-46f3-94f2-1d35e1b5b274"
      },
      "execution_count": null,
      "outputs": [
        {
          "output_type": "stream",
          "name": "stdout",
          "text": [
            "Digite o primeiro numero: 18\n",
            "Digite o segundo numero: 37\n",
            "O segundo numero é 37 e é maior que o primeiro\n"
          ]
        }
      ]
    },
    {
      "cell_type": "code",
      "source": [],
      "metadata": {
        "id": "TDR0Nd-wF0ia"
      },
      "execution_count": null,
      "outputs": []
    },
    {
      "cell_type": "code",
      "source": [
        "email ='adm@live.com'"
      ],
      "metadata": {
        "id": "pctCbfAIF0gM"
      },
      "execution_count": null,
      "outputs": []
    },
    {
      "cell_type": "code",
      "source": [
        "print('@' in email)"
      ],
      "metadata": {
        "colab": {
          "base_uri": "https://localhost:8080/"
        },
        "id": "8P6gO-HIF0d3",
        "outputId": "8e39be4d-0a45-4203-c030-aa6dd4ab3809"
      },
      "execution_count": null,
      "outputs": [
        {
          "output_type": "stream",
          "name": "stdout",
          "text": [
            "True\n"
          ]
        }
      ]
    },
    {
      "cell_type": "code",
      "source": [
        "fat = 2000\n",
        "custo = 500\n",
        "lucro = fat - custo\n",
        "print(lucro)"
      ],
      "metadata": {
        "colab": {
          "base_uri": "https://localhost:8080/"
        },
        "id": "1GtggYvcF0bm",
        "outputId": "cb6b5e1f-8e49-4bc5-9b62-e0f5d6ee508a"
      },
      "execution_count": null,
      "outputs": [
        {
          "output_type": "stream",
          "name": "stdout",
          "text": [
            "1500\n"
          ]
        }
      ]
    },
    {
      "cell_type": "code",
      "source": [
        "#forma 01\n",
        "print('O faturamento da loja foi de {}. O custo da loja foi {}. Assim, o lucro da loja foi {}'.format(fat,custo,lucro))"
      ],
      "metadata": {
        "colab": {
          "base_uri": "https://localhost:8080/"
        },
        "id": "govuQwc7U_0t",
        "outputId": "1dade65d-68cf-442d-8955-ba6041e022e6"
      },
      "execution_count": null,
      "outputs": [
        {
          "output_type": "stream",
          "name": "stdout",
          "text": [
            "O faturamento da loja foi de 2000. O custo da loja foi 500. Assim, o lucro da loja foi 1500\n"
          ]
        }
      ]
    },
    {
      "cell_type": "code",
      "source": [
        "#forma 02 aqui iremos inserir em cada colchete o que queremos\n",
        "print('O faturamento da loja foi de {0}. O custo da loja foi {1}. Assim, o lucro da loja foi {2}. Mas só pra lembrar o lucro foi de {2}'.format(fat,custo,lucro))"
      ],
      "metadata": {
        "colab": {
          "base_uri": "https://localhost:8080/"
        },
        "id": "SWx9jGObF0Wd",
        "outputId": "3aba922e-d96c-4811-d867-be1f2705be38"
      },
      "execution_count": null,
      "outputs": [
        {
          "output_type": "stream",
          "name": "stdout",
          "text": [
            "O faturamento da loja foi de 2000. O custo da loja foi 500. Assim, o lucro da loja foi 1500. Mas só pra lembrar o lucro foi de 1500\n"
          ]
        }
      ]
    },
    {
      "cell_type": "code",
      "source": [
        "# USO DO %s ou %d\n",
        "\n",
        "print('faturamento : R$%s. E o custo foi de R$%d. E o lucro foi de R$%d' % (fat, custo, lucro))\n"
      ],
      "metadata": {
        "colab": {
          "base_uri": "https://localhost:8080/"
        },
        "id": "tSOuUEFWF0Uj",
        "outputId": "d05645eb-ef73-4cac-8f57-e727fe06a502"
      },
      "execution_count": null,
      "outputs": [
        {
          "output_type": "stream",
          "name": "stdout",
          "text": [
            "faturamento : R$2000. E o custo foi de R$500. E o lucro foi de R$1500\n"
          ]
        }
      ]
    },
    {
      "cell_type": "code",
      "source": [
        "print('Faturamento de {}'.format)"
      ],
      "metadata": {
        "id": "7fL13r_xF0SL"
      },
      "execution_count": null,
      "outputs": []
    },
    {
      "cell_type": "code",
      "source": [
        "custo = 5000\n",
        "faturamento = 2700\n",
        "lucro = faturamento - custo\n",
        "print('faturamento foi de {:.2f} e o lucro foi de  {:+}'.format(faturamento, lucro))"
      ],
      "metadata": {
        "colab": {
          "base_uri": "https://localhost:8080/"
        },
        "id": "H8jaFwVyF0Pk",
        "outputId": "fdc0f04c-d134-4b80-d85c-ce3f71099a5a"
      },
      "execution_count": null,
      "outputs": [
        {
          "output_type": "stream",
          "name": "stdout",
          "text": [
            "faturamento foi de 2700.00 e o lucro foi de  -2300\n"
          ]
        }
      ]
    },
    {
      "cell_type": "code",
      "source": [
        "# ex separador de milhar\n",
        "custo = 50000\n",
        "faturamento = 27000\n",
        "lucro = faturamento - custo\n",
        "\n",
        "lucro_formatado = 'R${:_.2f}'.format(lucro)\n",
        "print('faturamento foi de {:_,} e o lucro foi de  {:+,}'.format(faturamento, lucro))\n",
        "print(lucro_formatado.replace('.',',').replace('_','.'))"
      ],
      "metadata": {
        "colab": {
          "base_uri": "https://localhost:8080/",
          "height": 193
        },
        "id": "xesSz1_PFzWb",
        "outputId": "83684f12-057f-47d3-e2e4-f9c956766ccc"
      },
      "execution_count": null,
      "outputs": [
        {
          "output_type": "error",
          "ename": "ValueError",
          "evalue": "Cannot specify both ',' and '_'.",
          "traceback": [
            "\u001b[0;31m---------------------------------------------------------------------------\u001b[0m",
            "\u001b[0;31mValueError\u001b[0m                                Traceback (most recent call last)",
            "\u001b[0;32m<ipython-input-2-5355bcab6118>\u001b[0m in \u001b[0;36m<cell line: 7>\u001b[0;34m()\u001b[0m\n\u001b[1;32m      5\u001b[0m \u001b[0;34m\u001b[0m\u001b[0m\n\u001b[1;32m      6\u001b[0m \u001b[0mlucro_formatado\u001b[0m \u001b[0;34m=\u001b[0m \u001b[0;34m'R${:_.2f}'\u001b[0m\u001b[0;34m.\u001b[0m\u001b[0mformat\u001b[0m\u001b[0;34m(\u001b[0m\u001b[0mlucro\u001b[0m\u001b[0;34m)\u001b[0m\u001b[0;34m\u001b[0m\u001b[0;34m\u001b[0m\u001b[0m\n\u001b[0;32m----> 7\u001b[0;31m \u001b[0mprint\u001b[0m\u001b[0;34m(\u001b[0m\u001b[0;34m'faturamento foi de {:_,} e o lucro foi de  {:+,}'\u001b[0m\u001b[0;34m.\u001b[0m\u001b[0mformat\u001b[0m\u001b[0;34m(\u001b[0m\u001b[0mfaturamento\u001b[0m\u001b[0;34m,\u001b[0m \u001b[0mlucro\u001b[0m\u001b[0;34m)\u001b[0m\u001b[0;34m)\u001b[0m\u001b[0;34m\u001b[0m\u001b[0;34m\u001b[0m\u001b[0m\n\u001b[0m\u001b[1;32m      8\u001b[0m \u001b[0mprint\u001b[0m\u001b[0;34m(\u001b[0m\u001b[0mlucro_formatado\u001b[0m\u001b[0;34m.\u001b[0m\u001b[0mreplace\u001b[0m\u001b[0;34m(\u001b[0m\u001b[0;34m'.'\u001b[0m\u001b[0;34m,\u001b[0m\u001b[0;34m','\u001b[0m\u001b[0;34m)\u001b[0m\u001b[0;34m.\u001b[0m\u001b[0mreplace\u001b[0m\u001b[0;34m(\u001b[0m\u001b[0;34m'_'\u001b[0m\u001b[0;34m,\u001b[0m\u001b[0;34m'.'\u001b[0m\u001b[0;34m)\u001b[0m\u001b[0;34m)\u001b[0m\u001b[0;34m\u001b[0m\u001b[0;34m\u001b[0m\u001b[0m\n",
            "\u001b[0;31mValueError\u001b[0m: Cannot specify both ',' and '_'."
          ]
        }
      ]
    },
    {
      "cell_type": "code",
      "source": [
        "# casas decimais fixas\n",
        "\n",
        "# ex separador de milhar\n",
        "custo = 50000\n",
        "faturamento = 27000\n",
        "lucro = faturamento - custo\n",
        "print('faturamento foi de {:.2f} e o lucro foi de  {:.2f}'.format(faturamento, lucro))"
      ],
      "metadata": {
        "colab": {
          "base_uri": "https://localhost:8080/"
        },
        "id": "zBI5kE3XFz11",
        "outputId": "85c749a0-3b43-4887-a07e-e4594f908596"
      },
      "execution_count": null,
      "outputs": [
        {
          "output_type": "stream",
          "name": "stdout",
          "text": [
            "faturamento foi de 27000.00 e o lucro foi de  -23000.00\n"
          ]
        }
      ]
    },
    {
      "cell_type": "code",
      "source": [],
      "metadata": {
        "id": "2TaLgu7P_JhS"
      },
      "execution_count": null,
      "outputs": []
    },
    {
      "cell_type": "code",
      "source": [
        "texto =  'adams'\n",
        "print(texto.upper())"
      ],
      "metadata": {
        "id": "gvm3KdA1Fzx6",
        "colab": {
          "base_uri": "https://localhost:8080/"
        },
        "outputId": "3a484424-3a62-44e3-fc17-3adfe3f7fdd2"
      },
      "execution_count": null,
      "outputs": [
        {
          "output_type": "stream",
          "name": "stdout",
          "text": [
            "ADAMS\n"
          ]
        }
      ]
    },
    {
      "cell_type": "code",
      "source": [
        "print(texto.capitalize())"
      ],
      "metadata": {
        "colab": {
          "base_uri": "https://localhost:8080/"
        },
        "id": "_-5FfpBM_JwD",
        "outputId": "0d5cf5c1-6832-45e7-95b1-594fc910e7b6"
      },
      "execution_count": null,
      "outputs": [
        {
          "output_type": "stream",
          "name": "stdout",
          "text": [
            "Adams\n"
          ]
        }
      ]
    },
    {
      "cell_type": "code",
      "source": [
        "print(texto.casefold())"
      ],
      "metadata": {
        "colab": {
          "base_uri": "https://localhost:8080/"
        },
        "id": "imY771lq_OK-",
        "outputId": "b8837ac4-146c-4310-c9de-64497b1bd8fd"
      },
      "execution_count": null,
      "outputs": [
        {
          "output_type": "stream",
          "name": "stdout",
          "text": [
            "adams\n"
          ]
        }
      ]
    },
    {
      "cell_type": "code",
      "source": [
        "print(texto.count('a'))"
      ],
      "metadata": {
        "colab": {
          "base_uri": "https://localhost:8080/"
        },
        "id": "185XZBvw_ksK",
        "outputId": "bba3eada-4428-4749-eef6-343b1000f7f8"
      },
      "execution_count": null,
      "outputs": [
        {
          "output_type": "stream",
          "name": "stdout",
          "text": [
            "2\n"
          ]
        }
      ]
    },
    {
      "cell_type": "code",
      "source": [
        "email = 'adm.francisco@live.com'\n",
        "teste_email = print(email.endswith('@live.com'))\n",
        "if teste_email == True:\n",
        "  print('email valido')\n",
        "else:\n",
        "  print('email invalido')"
      ],
      "metadata": {
        "colab": {
          "base_uri": "https://localhost:8080/"
        },
        "id": "2Mhie5UaA0JT",
        "outputId": "3255d880-7a44-4bdb-97ba-2b406495c106"
      },
      "execution_count": null,
      "outputs": [
        {
          "output_type": "stream",
          "name": "stdout",
          "text": [
            "True\n",
            "email invalido\n"
          ]
        }
      ]
    },
    {
      "cell_type": "code",
      "source": [
        "fat = 2000\n",
        "custo = 500\n",
        "lucro = fat - custo\n",
        "print(lucro)"
      ],
      "metadata": {
        "colab": {
          "base_uri": "https://localhost:8080/"
        },
        "id": "R0TzOb5OGt4c",
        "outputId": "d62df6d8-0127-455f-f5b2-7ee5f8202f6d"
      },
      "execution_count": null,
      "outputs": [
        {
          "output_type": "stream",
          "name": "stdout",
          "text": [
            "1500\n"
          ]
        }
      ]
    },
    {
      "cell_type": "code",
      "source": [
        "#forma 02 aqui iremos inserir em cada colchete o que queremos\n",
        "print('O faturamento da loja foi de {}. O custo da loja foi {}. Assim, o lucro da loja foi {}. Mas só pra lembrar o lucro foi de'.format(fat,custo,lucro))"
      ],
      "metadata": {
        "colab": {
          "base_uri": "https://localhost:8080/"
        },
        "id": "GqLSx7blA4fT",
        "outputId": "f66c275f-b882-4f0f-f6c3-54a04afbab14"
      },
      "execution_count": null,
      "outputs": [
        {
          "output_type": "stream",
          "name": "stdout",
          "text": [
            "O faturamento da loja foi de 2000. O custo da loja foi 500. Assim, o lucro da loja foi 1500. Mas só pra lembrar o lucro foi de\n"
          ]
        }
      ]
    },
    {
      "cell_type": "code",
      "source": [
        "# MÉTODO APENAS PARA POSIÇÃO DO TERMO\n",
        "\n",
        "email = 'adm@live.com'\n",
        "print('Meu email não é {:^30}, certo?'.format(email))"
      ],
      "metadata": {
        "colab": {
          "base_uri": "https://localhost:8080/"
        },
        "id": "7ane8pRZGxgc",
        "outputId": "8cd0d70a-7a8b-412a-c81d-cfa8a8e22456"
      },
      "execution_count": null,
      "outputs": [
        {
          "output_type": "stream",
          "name": "stdout",
          "text": [
            "Meu email não é          adm@live.com         , certo?\n"
          ]
        }
      ]
    },
    {
      "cell_type": "code",
      "source": [
        "# ex separador de milhar\n",
        "custo = 50000\n",
        "faturamento = 27000\n",
        "lucro = faturamento - custo\n",
        "\n",
        "lucro_formatado = 'R${:_.2f}'.format(lucro)\n",
        "print('faturamento foi de {:_,} e o lucro foi de  {:+,}'.format(faturamento, lucro))\n",
        "print(lucro_formatado.replace('.',',').replace('_','.'))"
      ],
      "metadata": {
        "id": "g9m6zvE8GnRm"
      },
      "execution_count": null,
      "outputs": []
    },
    {
      "cell_type": "code",
      "source": [
        "custo = 100\n",
        "faturamento = 10000\n",
        "lucro = (faturamento - custo)\n",
        "porcentagem = (faturamento - custo)/faturamento\n",
        "print('faturamento foi de R${:,.2f}, o lucro foi de R${:,.1f} e a porcentagem foi de R${:,.1f}'.format(faturamento, lucro, porcentagem))\n",
        "print('faturamento foi de R${:,.2F}, o lucro foi de  R${:,.1f} e a porcentagem foi de {:,.2%}'.format(faturamento, lucro, porcentagem))"
      ],
      "metadata": {
        "colab": {
          "base_uri": "https://localhost:8080/"
        },
        "id": "QIb6AojzAyFr",
        "outputId": "c5ae1c58-1904-4500-9e16-2e7a075440bd"
      },
      "execution_count": null,
      "outputs": [
        {
          "output_type": "stream",
          "name": "stdout",
          "text": [
            "faturamento foi de R$10,000.00, o lucro foi de R$9,900.0 e a porcentagem foi de R$1.0\n",
            "faturamento foi de R$10,000.00, o lucro foi de  R$9,900.0 e a porcentagem foi de 99.00%\n"
          ]
        }
      ]
    },
    {
      "cell_type": "code",
      "source": [
        "# FUNÇÃO ROUND - ARREDONDAR\n",
        "\n",
        "imposto = 0.15758\n",
        "preco = 100\n",
        "valor_imposto = round(preco * imposto, 2)\n",
        "print('Imposto sobre o preço é de R${}'.format(valor_imposto))"
      ],
      "metadata": {
        "colab": {
          "base_uri": "https://localhost:8080/"
        },
        "id": "LGWH1qnrnCwa",
        "outputId": "cca9b4f3-18ea-4f04-f44c-a2be237bbb52"
      },
      "execution_count": null,
      "outputs": [
        {
          "output_type": "stream",
          "name": "stdout",
          "text": [
            "Imposto sobre o preço é de R$15.76\n"
          ]
        }
      ]
    },
    {
      "cell_type": "markdown",
      "source": [
        "## LISTAS EM PYTON"
      ],
      "metadata": {
        "id": "C5mkog4x5Ihi"
      }
    },
    {
      "cell_type": "code",
      "source": [
        "\n",
        "precos = [28.99, 31.85, 17.66, 6.82, 5.09, 12.84, 13.3, 42.41, 15.29, 24.77, 13.31, 7.81, 8.78, 3.06, 34.34, 21.23, 22.58, 34.95, 24.32, 34.27]\n",
        "produtos = ['Arroz', 'Feijão', 'Açúcar', 'Leite', 'Óleo', 'Café', 'Farinha', 'Sal', 'Massa', 'Biscoito', 'Suco', 'Cereal', 'Sabonete', 'Shampoo', 'Pasta de dente', 'Detergente', 'Desodorante', 'Papel higiênico', 'Sabão em pó', 'Amaciante']"
      ],
      "metadata": {
        "id": "R4Ug8DWvqSz7"
      },
      "execution_count": null,
      "outputs": []
    },
    {
      "cell_type": "markdown",
      "source": [],
      "metadata": {
        "id": "ASwOEVs_5H0c"
      }
    },
    {
      "cell_type": "code",
      "source": [
        "for i in  zip(produtos,precos):\n",
        "  print(i)"
      ],
      "metadata": {
        "colab": {
          "base_uri": "https://localhost:8080/"
        },
        "id": "xg6o41Cf_OIY",
        "outputId": "643bccbc-4b12-4bce-c403-17ba01321bf7"
      },
      "execution_count": null,
      "outputs": [
        {
          "output_type": "stream",
          "name": "stdout",
          "text": [
            "('Arroz', 28.99)\n",
            "('Feijão', 31.85)\n",
            "('Açúcar', 17.66)\n",
            "('Leite', 6.82)\n",
            "('Óleo', 5.09)\n",
            "('Café', 12.84)\n",
            "('Farinha', 13.3)\n",
            "('Sal', 42.41)\n",
            "('Massa', 15.29)\n",
            "('Biscoito', 24.77)\n",
            "('Suco', 13.31)\n",
            "('Cereal', 7.81)\n",
            "('Sabonete', 8.78)\n",
            "('Shampoo', 3.06)\n",
            "('Pasta de dente', 34.34)\n",
            "('Detergente', 21.23)\n",
            "('Desodorante', 22.58)\n",
            "('Papel higiênico', 34.95)\n",
            "('Sabão em pó', 24.32)\n",
            "('Amaciante', 34.27)\n"
          ]
        }
      ]
    },
    {
      "cell_type": "code",
      "source": [
        "produto =  input('insira o nome do produto: ')\n",
        "if produto in produtos:\n",
        "  i = produtos.index(produto)\n",
        "  lista_de_precos = precos[i]\n",
        "  print('O produto {} tem o valor de R${}'.format(produto,lista_de_precos))\n",
        "else:\n",
        "  print('O produto {} não está na lista'.format(produto))"
      ],
      "metadata": {
        "colab": {
          "base_uri": "https://localhost:8080/"
        },
        "id": "xtE2aAzh-aHp",
        "outputId": "5e0608ce-e659-4c3a-cf84-4aaff4592a26"
      },
      "execution_count": null,
      "outputs": [
        {
          "output_type": "stream",
          "name": "stdout",
          "text": [
            "insira o nome do produto: Papel higiênico\n",
            "O produto Papel higiênico tem o valor de R$34.95\n"
          ]
        }
      ]
    },
    {
      "cell_type": "markdown",
      "source": [
        "# ADICIONAR OU REMOVER ITENS DE UMA LISTA"
      ],
      "metadata": {
        "id": "JifAzVEGUT6C"
      }
    },
    {
      "cell_type": "code",
      "source": [
        "# POP pode add em uma nova planilha os itens removidos. E você usa o INDICE\n",
        "# JÁ O REMOVE você usa o nome do item\n",
        "\n",
        "produtos_apple = ['iPhone 15', 'iPhone 15 Pro Max', 'MacBook Air', 'MacBook Pro', 'iPad Pro',\n",
        "'iPad Air', 'Apple Watch Series 9', 'Apple Watch Ultra', 'AirPods Pro',\n",
        "'AirPods Max', 'Apple TV 4K', 'HomePod', 'HomePod Mini', 'iMac',\n",
        "'Mac Mini', 'Mac Studio', 'Apple Pencil', 'Magic Keyboard',\n",
        "'Magic Mouse', 'Magic Trackpad']\n",
        "#add produtos\n",
        "produtos_apple.append('Apple Vision Pro')\n",
        "print(len(produtos_apple))\n"
      ],
      "metadata": {
        "colab": {
          "base_uri": "https://localhost:8080/"
        },
        "id": "a-sC7Ll4S8Jr",
        "outputId": "712481f8-8f65-4269-b63d-31d0f2e088f0"
      },
      "execution_count": null,
      "outputs": [
        {
          "output_type": "stream",
          "name": "stdout",
          "text": [
            "21\n"
          ]
        }
      ]
    },
    {
      "cell_type": "code",
      "source": [
        "#removendo com o remove\n",
        "\n",
        "produtos_apple.remove('Apple Vision Pro')\n",
        "print(len(produtos_apple))"
      ],
      "metadata": {
        "colab": {
          "base_uri": "https://localhost:8080/"
        },
        "id": "UN1Be1twVx_a",
        "outputId": "02108e05-35ea-4bef-b447-b58e5206f535"
      },
      "execution_count": null,
      "outputs": [
        {
          "output_type": "stream",
          "name": "stdout",
          "text": [
            "20\n"
          ]
        }
      ]
    },
    {
      "cell_type": "code",
      "source": [
        "produtos_apple.append('Apple Vision Pro')\n",
        "print(len(produtos_apple))\n"
      ],
      "metadata": {
        "colab": {
          "base_uri": "https://localhost:8080/"
        },
        "id": "74lXJZ1nWB_D",
        "outputId": "a80a145e-6967-4658-b8ca-daa2f8b0c4e4"
      },
      "execution_count": null,
      "outputs": [
        {
          "output_type": "stream",
          "name": "stdout",
          "text": [
            "22\n"
          ]
        }
      ]
    },
    {
      "cell_type": "code",
      "source": [
        "#removendo com o pop aqui é pelo indice\n",
        "\n",
        "#uma das formas de tratar um possível erro é usando o método TRY junto com o\n",
        "# except e coloca um print. ou pode usar um PASS pra o código continuar\n",
        "\n",
        "#como não sei o indice, usei o método index para descobrir o índice pelo nome\n",
        "try:\n",
        "  produtos_apple.pop(produtos_apple.index('Apple Vision Pro'))\n",
        "  #printei o tamanho da lista para verificar se houve a exclusão\n",
        "  print(len(produtos_apple))\n",
        "  #criei uma lista para receber os produtos removidos\n",
        "  removidos = produtos_apple.pop()\n",
        "  #printando tanto os removidos como a lista original\n",
        "  print('O item {} foi removido'.format(removidos))\n",
        "  print('Essa é a lista completa:{} '.format(produtos_apple))\n",
        "except:\n",
        "  print('Não tá na lista')\n"
      ],
      "metadata": {
        "colab": {
          "base_uri": "https://localhost:8080/"
        },
        "id": "r8IA6Q5MVuCq",
        "outputId": "d1c10792-8f49-4120-cbae-1d87a53ffa21"
      },
      "execution_count": null,
      "outputs": [
        {
          "output_type": "stream",
          "name": "stdout",
          "text": [
            "Não tá na lista\n"
          ]
        }
      ]
    },
    {
      "cell_type": "markdown",
      "source": [
        "# JUNTAR, ORDENAR\n",
        "# MÉTODO EXTEND CRIA UMA NOVA LISTA  E O MÉTODO APPEND QUE MODIFICA A LISTA ORIGINAL"
      ],
      "metadata": {
        "id": "9DM3xtEncREy"
      }
    },
    {
      "cell_type": "code",
      "source": [
        "produtos_apple = ['iPhone 15', 'iPhone 15 Pro Max', 'MacBook Air', 'MacBook Pro', 'iPad Pro',\n",
        "'iPad Air', 'Apple Watch Series 9', 'Apple Watch Ultra', 'AirPods Pro',\n",
        "'AirPods Max', 'Apple TV 4K', 'HomePod', 'HomePod Mini', 'iMac',\n",
        "'Mac Mini', 'Mac Studio', 'Apple Pencil', 'Magic Keyboard',\n",
        "'Magic Mouse', 'Magic Trackpad']\n",
        "novo_produto_apple = ['Apple Vision Pro']\n",
        "\n",
        "#USANDO O EXTEND\n",
        "\n",
        "print(produtos_apple)\n",
        "print(novo_produto_apple)"
      ],
      "metadata": {
        "colab": {
          "base_uri": "https://localhost:8080/"
        },
        "id": "YYB8LwaQWncK",
        "outputId": "0d3e20d6-3c7d-426c-c1a8-b702470a4977"
      },
      "execution_count": null,
      "outputs": [
        {
          "output_type": "stream",
          "name": "stdout",
          "text": [
            "['iPhone 15', 'iPhone 15 Pro Max', 'MacBook Air', 'MacBook Pro', 'iPad Pro', 'iPad Air', 'Apple Watch Series 9', 'Apple Watch Ultra', 'AirPods Pro', 'AirPods Max', 'Apple TV 4K', 'HomePod', 'HomePod Mini', 'iMac', 'Mac Mini', 'Mac Studio', 'Apple Pencil', 'Magic Keyboard', 'Magic Mouse', 'Magic Trackpad']\n",
            "['Apple Vision Pro']\n"
          ]
        }
      ]
    },
    {
      "cell_type": "code",
      "source": [
        "produtos_apple.extend(novo_produto_apple)\n",
        "print(produtos_apple)"
      ],
      "metadata": {
        "colab": {
          "base_uri": "https://localhost:8080/"
        },
        "id": "KILm6GZOVq7U",
        "outputId": "5b435eb7-d4fa-46d7-9244-717e0cd5ce05"
      },
      "execution_count": null,
      "outputs": [
        {
          "output_type": "stream",
          "name": "stdout",
          "text": [
            "['iPhone 15', 'iPhone 15 Pro Max', 'MacBook Air', 'MacBook Pro', 'iPad Pro', 'iPad Air', 'Apple Watch Series 9', 'Apple Watch Ultra', 'AirPods Pro', 'AirPods Max', 'Apple TV 4K', 'HomePod', 'HomePod Mini', 'iMac', 'Mac Mini', 'Mac Studio', 'Apple Pencil', 'Magic Keyboard', 'Magic Mouse', 'Magic Trackpad', 'Apple Vision Pro']\n"
          ]
        }
      ]
    },
    {
      "cell_type": "code",
      "source": [
        "# ORDENDAR A LISTA\n",
        "\n",
        "produtos_apple.sort(reverse=True)\n",
        "print(produtos_apple)"
      ],
      "metadata": {
        "colab": {
          "base_uri": "https://localhost:8080/"
        },
        "id": "CknYh1Tjc5pk",
        "outputId": "7992883f-3901-4659-eb22-2739c869066e"
      },
      "execution_count": null,
      "outputs": [
        {
          "output_type": "stream",
          "name": "stdout",
          "text": [
            "['iPhone 15 Pro Max', 'iPhone 15', 'iPad Pro', 'iPad Air', 'iMac', 'Magic Trackpad', 'Magic Mouse', 'Magic Keyboard', 'MacBook Pro', 'MacBook Air', 'Mac Studio', 'Mac Mini', 'HomePod Mini', 'HomePod', 'Apple Watch Ultra', 'Apple Watch Series 9', 'Apple Vision Pro', 'Apple TV 4K', 'Apple Pencil', 'AirPods Pro', 'AirPods Max']\n"
          ]
        }
      ]
    },
    {
      "cell_type": "markdown",
      "source": [
        "PRINT DE LISTAS"
      ],
      "metadata": {
        "id": "RW1pJ0segP3e"
      }
    },
    {
      "cell_type": "code",
      "source": [
        "produtos_apple = ['iPhone 15', 'iPhone 15 Pro Max', 'MacBook Air', 'MacBook Pro', 'iPad Pro',\n",
        "'iPad Air', 'Apple Watch Series 9', 'Apple Watch Ultra', 'AirPods Pro',\n",
        "'AirPods Max', 'Apple TV 4K', 'HomePod', 'HomePod Mini', 'iMac',\n",
        "'Mac Mini', 'Mac Studio', 'Apple Pencil', 'Magic Keyboard',\n",
        "'Magic Mouse', 'Magic Trackpad']\n",
        "\n",
        "print('\\n'.join(produtos_apple))\n",
        "print(','.join(produtos_apple))"
      ],
      "metadata": {
        "colab": {
          "base_uri": "https://localhost:8080/"
        },
        "id": "jSVlUmfee7Hm",
        "outputId": "9e08c8e2-e418-4ac6-b7d5-45828fc8d0ed"
      },
      "execution_count": null,
      "outputs": [
        {
          "output_type": "stream",
          "name": "stdout",
          "text": [
            "iPhone 15\n",
            "iPhone 15 Pro Max\n",
            "MacBook Air\n",
            "MacBook Pro\n",
            "iPad Pro\n",
            "iPad Air\n",
            "Apple Watch Series 9\n",
            "Apple Watch Ultra\n",
            "AirPods Pro\n",
            "AirPods Max\n",
            "Apple TV 4K\n",
            "HomePod\n",
            "HomePod Mini\n",
            "iMac\n",
            "Mac Mini\n",
            "Mac Studio\n",
            "Apple Pencil\n",
            "Magic Keyboard\n",
            "Magic Mouse\n",
            "Magic Trackpad\n",
            "iPhone 15,iPhone 15 Pro Max,MacBook Air,MacBook Pro,iPad Pro,iPad Air,Apple Watch Series 9,Apple Watch Ultra,AirPods Pro,AirPods Max,Apple TV 4K,HomePod,HomePod Mini,iMac,Mac Mini,Mac Studio,Apple Pencil,Magic Keyboard,Magic Mouse,Magic Trackpad\n"
          ]
        }
      ]
    },
    {
      "cell_type": "code",
      "source": [
        "#aqui está como texto\n",
        "produtos_apple = 'iPhone 15, iPhone 15 Pro Max, MacBook Air, MacBook Pro'\n",
        "\n",
        "#TRANSFORMANDO texto EM LISTA\n",
        "lista_sem_aspas = produtos_apple.split(', ')\n",
        "\n",
        "print(lista_sem_aspas)"
      ],
      "metadata": {
        "colab": {
          "base_uri": "https://localhost:8080/"
        },
        "id": "K5LeC0bHrB5a",
        "outputId": "93f6520d-1bb8-410c-c4fe-b4ff73889f44"
      },
      "execution_count": null,
      "outputs": [
        {
          "output_type": "stream",
          "name": "stdout",
          "text": [
            "['iPhone 15', 'iPhone 15 Pro Max', 'MacBook Air', 'MacBook Pro']\n"
          ]
        }
      ]
    },
    {
      "cell_type": "code",
      "source": [
        "# COPY\n",
        "\n",
        "meses = ['jan', 'fev', 'mar', 'abr', 'mai', 'jun', 'jul', 'ago', 'set', 'out', 'nov', 'dez']\n",
        "meses2 = meses.copy()\n",
        "print(meses2)\n"
      ],
      "metadata": {
        "id": "mGhEVoPQq-e6",
        "colab": {
          "base_uri": "https://localhost:8080/"
        },
        "outputId": "0634cc00-34aa-4bd7-eaa7-dd9afcf36a8e"
      },
      "execution_count": null,
      "outputs": [
        {
          "output_type": "stream",
          "name": "stdout",
          "text": [
            "['jan', 'fev', 'mar', 'abr', 'mai', 'jun', 'jul', 'ago', 'set', 'out', 'nov', 'dez']\n"
          ]
        }
      ]
    },
    {
      "cell_type": "code",
      "source": [
        "meses2.pop(11)\n",
        "print(meses2)"
      ],
      "metadata": {
        "colab": {
          "base_uri": "https://localhost:8080/"
        },
        "id": "m_QVdfbq_8sC",
        "outputId": "cab7e4e7-ee6e-4f0a-b8bb-b6ca47fb1567"
      },
      "execution_count": null,
      "outputs": [
        {
          "output_type": "stream",
          "name": "stdout",
          "text": [
            "['jan', 'fev', 'mar', 'abr', 'mai', 'jun', 'jul', 'ago', 'set', 'out', 'nov']\n"
          ]
        }
      ]
    },
    {
      "cell_type": "code",
      "source": [],
      "metadata": {
        "id": "3jy2eZstA4Vz"
      },
      "execution_count": null,
      "outputs": []
    },
    {
      "cell_type": "markdown",
      "source": [
        "#**Estrutura de Repetição**"
      ],
      "metadata": {
        "id": "VaMlimgOKEEJ"
      }
    },
    {
      "cell_type": "code",
      "source": [
        "# for\n",
        "\n",
        "for i in range(5):\n",
        "  print(i)"
      ],
      "metadata": {
        "colab": {
          "base_uri": "https://localhost:8080/"
        },
        "id": "Q14I2HdiAWLD",
        "outputId": "5eeb2c46-2ed3-42d2-a00f-38b09ffad9d3"
      },
      "execution_count": null,
      "outputs": [
        {
          "output_type": "stream",
          "name": "stdout",
          "text": [
            "0\n",
            "1\n",
            "2\n",
            "3\n",
            "4\n"
          ]
        }
      ]
    },
    {
      "cell_type": "code",
      "source": [
        "nome = 'adams'\n",
        "tam_nome = len(nome)\n",
        "letra = nome.index\n",
        "\n",
        "\n",
        "for v in range(tam_nome):\n",
        "  print(nome[v])"
      ],
      "metadata": {
        "colab": {
          "base_uri": "https://localhost:8080/"
        },
        "id": "cOYVqLbLKStB",
        "outputId": "74dd236d-8e19-4250-e7a6-0e84038e067e"
      },
      "execution_count": null,
      "outputs": [
        {
          "output_type": "stream",
          "name": "stdout",
          "text": [
            "a\n",
            "d\n",
            "a\n",
            "m\n",
            "s\n"
          ]
        }
      ]
    },
    {
      "cell_type": "code",
      "source": [
        "texto = 'Brasil'\n",
        "for let in texto:\n",
        "  print(let)"
      ],
      "metadata": {
        "colab": {
          "base_uri": "https://localhost:8080/"
        },
        "id": "eFnqDTXuNEOa",
        "outputId": "3dc65bf0-5880-48e7-d6d6-480d85a69008"
      },
      "execution_count": null,
      "outputs": [
        {
          "output_type": "stream",
          "name": "stdout",
          "text": [
            "B\n",
            "r\n",
            "a\n",
            "s\n",
            "i\n",
            "l\n"
          ]
        }
      ]
    },
    {
      "cell_type": "code",
      "source": [
        "for i in range(tam_nome):\n",
        "    print(nome[i])"
      ],
      "metadata": {
        "colab": {
          "base_uri": "https://localhost:8080/"
        },
        "id": "bR5FGkPtK-TC",
        "outputId": "8779a6fa-8dc9-47ff-ca24-08664ef98ac5"
      },
      "execution_count": null,
      "outputs": [
        {
          "output_type": "stream",
          "name": "stdout",
          "text": [
            "a\n",
            "d\n",
            "a\n",
            "m\n",
            "s\n"
          ]
        }
      ]
    },
    {
      "cell_type": "code",
      "source": [
        "import random\n",
        "\n",
        "# Criando a lista com 30 itens aleatórios entre 20 e 2000\n",
        "lista_valores = [random.randint(20, 2000) for _ in range(30)]\n",
        "print(lista_valores)\n"
      ],
      "metadata": {
        "colab": {
          "base_uri": "https://localhost:8080/"
        },
        "id": "SgQlD54kXeQW",
        "outputId": "218bf1b8-703a-4d00-fd74-f961600bcb53"
      },
      "execution_count": null,
      "outputs": [
        {
          "output_type": "stream",
          "name": "stdout",
          "text": [
            "[1889, 360, 767, 329, 1019, 431, 222, 1884, 1559, 824, 717, 503, 1640, 1765, 361, 1980, 979, 1177, 1144, 1321, 874, 668, 1314, 1201, 1988, 809, 1955, 1935, 1699, 576]\n"
          ]
        }
      ]
    },
    {
      "cell_type": "code",
      "source": [
        "# Iterar diretamente sobre cada letra da string\n",
        "for letra in nome:\n",
        "    print(letra)"
      ],
      "metadata": {
        "colab": {
          "base_uri": "https://localhost:8080/"
        },
        "id": "XcxJFopbLSbQ",
        "outputId": "5e2059e7-7ed4-4547-f04d-a4c7d2a6c13c"
      },
      "execution_count": null,
      "outputs": [
        {
          "output_type": "stream",
          "name": "stdout",
          "text": [
            "a\n",
            "d\n",
            "a\n",
            "m\n",
            "s\n"
          ]
        }
      ]
    },
    {
      "cell_type": "code",
      "source": [
        "vendas = lista_valores.copy()"
      ],
      "metadata": {
        "id": "FOQXdPFDMhj6"
      },
      "execution_count": null,
      "outputs": []
    },
    {
      "cell_type": "code",
      "source": [
        "print(vendas)"
      ],
      "metadata": {
        "colab": {
          "base_uri": "https://localhost:8080/"
        },
        "id": "aew5kbyuaGy_",
        "outputId": "b1c6a85f-6655-4c53-c873-f58f75448812"
      },
      "execution_count": null,
      "outputs": [
        {
          "output_type": "stream",
          "name": "stdout",
          "text": [
            "[1889, 360, 767, 329, 1019, 431, 222, 1884, 1559, 824, 717, 503, 1640, 1765, 361, 1980, 979, 1177, 1144, 1321, 874, 668, 1314, 1201, 1988, 809, 1955, 1935, 1699, 576]\n"
          ]
        }
      ]
    },
    {
      "cell_type": "markdown",
      "source": [
        "FOR + IF"
      ],
      "metadata": {
        "id": "q7oKjJ1gkRmd"
      }
    },
    {
      "cell_type": "code",
      "source": [
        "print(vendas)\n",
        "meta = 1000\n",
        "qtd_meta_batida = 0\n",
        "for venda in vendas:\n",
        "  if venda >= meta:\n",
        "    qtd_meta_batida += 1\n",
        "qtd_total_vendas= len(vendas)\n",
        "print(qtd_meta_batida)\n",
        "print(qtd_total_vendas)\n",
        "print('O percentual de vendas acima da média foi de {:.2%}'.format(qtd_meta_batida/qtd_total_vendas))\n"
      ],
      "metadata": {
        "colab": {
          "base_uri": "https://localhost:8080/"
        },
        "id": "GRdb3KdtaKW9",
        "outputId": "b3d5cd93-55e0-45d0-b779-192bae8c6dd3"
      },
      "execution_count": null,
      "outputs": [
        {
          "output_type": "stream",
          "name": "stdout",
          "text": [
            "[1889, 360, 767, 329, 1019, 431, 222, 1884, 1559, 824, 717, 503, 1640, 1765, 361, 1980, 979, 1177, 1144, 1321, 874, 668, 1314, 1201, 1988, 809, 1955, 1935, 1699, 576]\n",
            "16\n",
            "30\n",
            "O percentual de vendas acima da média foi de 53.33%\n"
          ]
        }
      ]
    },
    {
      "cell_type": "markdown",
      "source": [
        "ENUMERATE"
      ],
      "metadata": {
        "id": "5AuxM5M4kcxV"
      }
    },
    {
      "cell_type": "code",
      "source": [
        "funcionarios = ['Lucas', 'Ana', 'João', 'Mariana', 'Pedro', 'Carla', 'Gustavo', 'Beatriz', 'Felipe', 'Letícia',\n",
        " 'Bruno', 'Camila', 'Rafael', 'Fernanda', 'Gabriel', 'Isabela', 'Matheus', 'Sofia', 'Ricardo', 'Paula',\n",
        " 'Daniel', 'Juliana', 'Rodrigo', 'Larissa', 'Vinicius', 'Bianca', 'Thiago', 'Gabriela', 'Eduardo', 'Caroline']\n",
        "\n",
        "\n",
        "for funcionario in funcionarios:\n",
        "  print(funcionario)"
      ],
      "metadata": {
        "colab": {
          "base_uri": "https://localhost:8080/"
        },
        "id": "FyamC310i1Ft",
        "outputId": "f8107701-1688-4423-bc46-879d5b87da1b"
      },
      "execution_count": null,
      "outputs": [
        {
          "output_type": "stream",
          "name": "stdout",
          "text": [
            "Lucas\n",
            "Ana\n",
            "João\n",
            "Mariana\n",
            "Pedro\n",
            "Carla\n",
            "Gustavo\n",
            "Beatriz\n",
            "Felipe\n",
            "Letícia\n",
            "Bruno\n",
            "Camila\n",
            "Rafael\n",
            "Fernanda\n",
            "Gabriel\n",
            "Isabela\n",
            "Matheus\n",
            "Sofia\n",
            "Ricardo\n",
            "Paula\n",
            "Daniel\n",
            "Juliana\n",
            "Rodrigo\n",
            "Larissa\n",
            "Vinicius\n",
            "Bianca\n",
            "Thiago\n",
            "Gabriela\n",
            "Eduardo\n",
            "Caroline\n"
          ]
        }
      ]
    },
    {
      "cell_type": "code",
      "source": [
        "for i, funcionario in enumerate(funcionarios):\n",
        "  print('{} é o funcionário {}'.format(funcionario,i))"
      ],
      "metadata": {
        "colab": {
          "base_uri": "https://localhost:8080/"
        },
        "id": "Z6pFZR8ak6yc",
        "outputId": "0032b525-5b5b-4cfd-cfc5-7a01eae7a815"
      },
      "execution_count": null,
      "outputs": [
        {
          "output_type": "stream",
          "name": "stdout",
          "text": [
            "Lucas é o funcionário 0\n",
            "Ana é o funcionário 1\n",
            "João é o funcionário 2\n",
            "Mariana é o funcionário 3\n",
            "Pedro é o funcionário 4\n",
            "Carla é o funcionário 5\n",
            "Gustavo é o funcionário 6\n",
            "Beatriz é o funcionário 7\n",
            "Felipe é o funcionário 8\n",
            "Letícia é o funcionário 9\n",
            "Bruno é o funcionário 10\n",
            "Camila é o funcionário 11\n",
            "Rafael é o funcionário 12\n",
            "Fernanda é o funcionário 13\n",
            "Gabriel é o funcionário 14\n",
            "Isabela é o funcionário 15\n",
            "Matheus é o funcionário 16\n",
            "Sofia é o funcionário 17\n",
            "Ricardo é o funcionário 18\n",
            "Paula é o funcionário 19\n",
            "Daniel é o funcionário 20\n",
            "Juliana é o funcionário 21\n",
            "Rodrigo é o funcionário 22\n",
            "Larissa é o funcionário 23\n",
            "Vinicius é o funcionário 24\n",
            "Bianca é o funcionário 25\n",
            "Thiago é o funcionário 26\n",
            "Gabriela é o funcionário 27\n",
            "Eduardo é o funcionário 28\n",
            "Caroline é o funcionário 29\n"
          ]
        }
      ]
    },
    {
      "cell_type": "code",
      "source": [
        "# Criando a lista com 30 itens aleatórios entre 20 e 2000\n",
        "lista_estoque = [random.randint(20, 2000) for _ in range(10)]\n",
        "print(lista_estoque)\n",
        "produtos = ['Arroz', 'Feijão', 'Açúcar', 'Leite', 'Óleo', 'Café', 'Farinha', 'Sal', 'Massa', 'Biscoito']\n",
        "estoque_minimo = 50"
      ],
      "metadata": {
        "colab": {
          "base_uri": "https://localhost:8080/"
        },
        "id": "VNmc1deoll9d",
        "outputId": "6332fdaa-ab14-45ce-874d-f2e07af3d1ae"
      },
      "execution_count": null,
      "outputs": [
        {
          "output_type": "stream",
          "name": "stdout",
          "text": [
            "[1157, 1483, 692, 1371, 1637, 1868, 208, 1757, 1391, 1591]\n"
          ]
        }
      ]
    },
    {
      "cell_type": "code",
      "source": [
        "produtos = ['Arroz', 'Feijão', 'Açúcar', 'Leite', 'Óleo', 'Café', 'Farinha', 'Sal', 'Massa', 'Biscoito']\n",
        "estoque_minimo = 1500\n",
        "estoque = lista_estoque.copy()\n",
        "print(estoque)\n",
        "\n"
      ],
      "metadata": {
        "colab": {
          "base_uri": "https://localhost:8080/"
        },
        "id": "7FWRypLympu2",
        "outputId": "9b0dc524-e445-4adf-d06a-e0952f61f2d2"
      },
      "execution_count": null,
      "outputs": [
        {
          "output_type": "stream",
          "name": "stdout",
          "text": [
            "[1157, 1483, 692, 1371, 1637, 1868, 208, 1757, 1391, 1591]\n"
          ]
        }
      ]
    },
    {
      "cell_type": "code",
      "source": [
        "for i, qtd in enumerate(estoque):\n",
        "  if qtd < estoque_minimo:\n",
        "    print('{} está abaixo do estoque minimo. Tem apenas {} unidades'.format(produtos[i], qtd))\n"
      ],
      "metadata": {
        "colab": {
          "base_uri": "https://localhost:8080/"
        },
        "id": "bFGVgdOsnK10",
        "outputId": "fde3387a-9afd-4eb2-a741-4bbd89f70ece"
      },
      "execution_count": null,
      "outputs": [
        {
          "output_type": "stream",
          "name": "stdout",
          "text": [
            "Arroz está abaixo do estoque minimo. Tem apenas 1157 unidades\n",
            "Feijão está abaixo do estoque minimo. Tem apenas 1483 unidades\n",
            "Açúcar está abaixo do estoque minimo. Tem apenas 692 unidades\n",
            "Leite está abaixo do estoque minimo. Tem apenas 1371 unidades\n",
            "Farinha está abaixo do estoque minimo. Tem apenas 208 unidades\n",
            "Massa está abaixo do estoque minimo. Tem apenas 1391 unidades\n"
          ]
        }
      ]
    },
    {
      "cell_type": "code",
      "source": [
        "#testando o enumerate\n",
        "print(produtos)\n",
        "print(estoque)\n"
      ],
      "metadata": {
        "colab": {
          "base_uri": "https://localhost:8080/"
        },
        "id": "F6yQaaoVuwxw",
        "outputId": "827a3e5d-2d98-4e4e-9658-11ae6e5b24eb"
      },
      "execution_count": null,
      "outputs": [
        {
          "output_type": "stream",
          "name": "stdout",
          "text": [
            "['Arroz', 'Feijão', 'Açúcar', 'Leite', 'Óleo', 'Café', 'Farinha', 'Sal', 'Massa', 'Biscoito']\n",
            "[1157, 1483, 692, 1371, 1637, 1868, 208, 1757, 1391, 1591]\n"
          ]
        }
      ]
    },
    {
      "cell_type": "code",
      "source": [
        "# NO ENUMERATE NÃO PRECISA COLOCAR O 'i' NO PRINT.  POIS NO INICIO\n",
        "# DO FOR JÁ TEM E SERVE PARA OS DOIS ITEMS\n",
        "\n",
        "for i, produto in enumerate(produtos):\n",
        "  qtd_estoque = estoque[i]\n",
        "  print(produto, qtd_estoque)"
      ],
      "metadata": {
        "colab": {
          "base_uri": "https://localhost:8080/"
        },
        "id": "5KgqfeWcwrQU",
        "outputId": "08b49653-a9ff-4fc0-bd23-b0160144dfb5"
      },
      "execution_count": null,
      "outputs": [
        {
          "output_type": "stream",
          "name": "stdout",
          "text": [
            "Arroz 1157\n",
            "Feijão 1483\n",
            "Açúcar 692\n",
            "Leite 1371\n",
            "Óleo 1637\n",
            "Café 1868\n",
            "Farinha 208\n",
            "Sal 1757\n",
            "Massa 1391\n",
            "Biscoito 1591\n"
          ]
        }
      ]
    },
    {
      "cell_type": "code",
      "source": [
        "!pip install openpyxl\n",
        "\n",
        "import openpyxl"
      ],
      "metadata": {
        "colab": {
          "base_uri": "https://localhost:8080/"
        },
        "id": "9QNvk9rYxC49",
        "outputId": "6695eae4-736d-493f-bbd8-15dfbdfa3d5e"
      },
      "execution_count": null,
      "outputs": [
        {
          "output_type": "stream",
          "name": "stdout",
          "text": [
            "Requirement already satisfied: openpyxl in /usr/local/lib/python3.10/dist-packages (3.1.5)\n",
            "Requirement already satisfied: et-xmlfile in /usr/local/lib/python3.10/dist-packages (from openpyxl) (1.1.0)\n"
          ]
        }
      ]
    },
    {
      "cell_type": "code",
      "source": [
        "# Dados dos usuários\n",
        "usuarios = [\n",
        "    {\"id\": 0, \"name\": \"Hero\"},\n",
        "    {\"id\": 1, \"name\": \"Dunn\"},\n",
        "    {\"id\": 2, \"name\": \"Sue\"},\n",
        "    {\"id\": 3, \"name\": \"Chi\"},\n",
        "    {\"id\": 4, \"name\": \"Thor\"},\n",
        "    {\"id\": 5, \"name\": \"Clive\"},\n",
        "    {\"id\": 6, \"name\": \"Hicks\"},\n",
        "    {\"id\": 7, \"name\": \"Devin\"},\n",
        "    {\"id\": 8, \"name\": \"Kate\"},\n",
        "    {\"id\": 9, \"name\": \"Klein\"}\n",
        "]\n",
        "\n",
        "# Lista de pares de amizades\n",
        "pares_amizades = [(0, 1), (0, 2), (1, 2), (1, 3), (2, 3),(3, 4), (4, 5), (5, 6), (5, 7), (6, 8), (7, 8), (8, 9)]\n",
        "# Inicialize o dict com uma lista vazia para cada id de usuário\n",
        "lista_de_amizades = {usuario[\"id\"]: [] for usuario in usuarios}"
      ],
      "metadata": {
        "id": "dA7E1ZWjuH_9"
      },
      "execution_count": 14,
      "outputs": []
    },
    {
      "cell_type": "code",
      "source": [
        "#AQUI ESTÁ O USUÁRIO E A LISTA EM VAZIA\n",
        "print(lista_de_amizades)"
      ],
      "metadata": {
        "colab": {
          "base_uri": "https://localhost:8080/"
        },
        "id": "FwDwOwMouDW3",
        "outputId": "f846696f-116f-4206-f6a7-f263c31f5a55"
      },
      "execution_count": 15,
      "outputs": [
        {
          "output_type": "stream",
          "name": "stdout",
          "text": [
            "{0: [], 1: [], 2: [], 3: [], 4: [], 5: [], 6: [], 7: [], 8: [], 9: []}\n"
          ]
        }
      ]
    },
    {
      "cell_type": "code",
      "source": [
        "# Para cada  primeiro valor e o segundo valor dentro das tuplas na lista Pares_amizades(cada loop é por uma tupla - ou par de números)\n",
        "for primeiro_valor, segundo_valor in pares_amizades:\n",
        "    lista_de_amizades[primeiro_valor].append(segundo_valor)\n",
        "# Na lista de amizades do primeiro_valor adicione o segundo_valor na lista\n",
        "    lista_de_amizades[segundo_valor].append(primeiro_valor)\n",
        "# na lista de amizades do segundo_valor adicione o primeiro_valor na lista"
      ],
      "metadata": {
        "id": "_UbP3jOthWlC"
      },
      "execution_count": 22,
      "outputs": []
    },
    {
      "cell_type": "code",
      "source": [
        "print(friendship_pairs[j])\n",
        "print(friendships[j])"
      ],
      "metadata": {
        "colab": {
          "base_uri": "https://localhost:8080/"
        },
        "id": "nKNQyazAstRd",
        "outputId": "e687539e-30fb-4c59-d9ed-a196cfb39651"
      },
      "execution_count": 23,
      "outputs": [
        {
          "output_type": "stream",
          "name": "stdout",
          "text": [
            "(6, 8)\n",
            "[]\n"
          ]
        }
      ]
    },
    {
      "cell_type": "code",
      "source": [
        "print(len(friendships[9]))"
      ],
      "metadata": {
        "colab": {
          "base_uri": "https://localhost:8080/"
        },
        "id": "UprzT-ZWtT6M",
        "outputId": "8496d10b-2e9c-4f10-91f4-ea81331c0f4e"
      },
      "execution_count": null,
      "outputs": [
        {
          "output_type": "stream",
          "name": "stdout",
          "text": [
            "1\n"
          ]
        }
      ]
    },
    {
      "cell_type": "code",
      "source": [
        "# Agora podemos responder à pergunta: \"Qual é o número médio de conexões?\"\n",
        "def number_of_friends(usuario):\n",
        "    \"\"\"Quantos amigos tem o usuário `user`?\"\"\"\n",
        "    user_id = usuario[\"id\"] # ATRIBUI O ID DA LISTA\n",
        "    friend_ids = friendships[user_id] #PEGOU O ID DO USUÁRIO E ATRIBUIU À LISTA DE RELACIONAMENTO QUE USAM OS MESMOS IDS\n",
        "    return len(friend_ids) # AQUI PEDE O TAMENTO DA LISTA RELACIONAMENTO"
      ],
      "metadata": {
        "id": "D88FhWSSl3my"
      },
      "execution_count": null,
      "outputs": []
    },
    {
      "cell_type": "code",
      "source": [
        "# Total de conexões (somando os tamanhos de todas as listas de amigos)\n",
        "#AQUI É PARTE DO CÓD ANTERIOR. A FUNÇAO \"def number_of_friends(usuario):\" TRAZ O TAMANHO DA LISTA DE RELACIONAMENTO\n",
        "# NESSE CÓDIGO ELE VAI TRAZER O TOTAL DE CONEXOES. A SOMA DA FUNÇÃO \"NUMEROS DE AMIGOS\" FOR CADA USUÁRIO DENTRO DO DICT\n",
        "# USERS. PARA CHAMAR A FUNÇÃO BASTA A PRIMEIRA PARTE.\n",
        "total_connections = sum(number_of_friends(usuario) for usuario in users)\n",
        "\n",
        "# Número de usuários\n",
        "num_users = len(users)"
      ],
      "metadata": {
        "id": "vtcU7wGKk-mP"
      },
      "execution_count": null,
      "outputs": []
    },
    {
      "cell_type": "code",
      "source": [
        "# Número médio de conexões\n",
        "avg_connections = total_connections / num_users\n",
        "\n",
        "# Encontre as pessoas mais conectadas (as que têm o maior número de amigos)\n",
        "# Crie uma lista (user_id, number_of_friends)\n",
        "num_friends_by_id = [(user[\"id\"], number_of_friends(user)) for user in users]\n",
        "\n",
        "# Classifique a lista por number_of_friends (do maior para o menor)\n",
        "num_friends_by_id.sort(\n",
        "    key=lambda id_and_friends: id_and_friends[1],\n",
        "    reverse=True\n",
        ")\n",
        "\n",
        "# Exibe os resultados\n",
        "print(\"Número total de conexões:\", total_connections)\n",
        "print(\"Número médio de conexões:\", avg_connections)\n",
        "print(\"Usuários com mais amigos (id, número de amigos):\")\n",
        "for user_id, num_friends in num_friends_by_id:\n",
        "    print(f\"Usuário {user_id} tem {num_friends} amigos\")"
      ],
      "metadata": {
        "colab": {
          "base_uri": "https://localhost:8080/"
        },
        "id": "bom3VCvUkxQQ",
        "outputId": "e52e6dea-c089-460d-d512-b66df92b3e51"
      },
      "execution_count": null,
      "outputs": [
        {
          "output_type": "stream",
          "name": "stdout",
          "text": [
            "Número total de conexões: 24\n",
            "Número médio de conexões: 2.4\n",
            "Usuários com mais amigos (id, número de amigos):\n",
            "Usuário 1 tem 3 amigos\n",
            "Usuário 2 tem 3 amigos\n",
            "Usuário 3 tem 3 amigos\n",
            "Usuário 5 tem 3 amigos\n",
            "Usuário 8 tem 3 amigos\n",
            "Usuário 0 tem 2 amigos\n",
            "Usuário 4 tem 2 amigos\n",
            "Usuário 6 tem 2 amigos\n",
            "Usuário 7 tem 2 amigos\n",
            "Usuário 9 tem 1 amigos\n"
          ]
        }
      ]
    },
    {
      "cell_type": "code",
      "source": [],
      "metadata": {
        "id": "aJ064XTbiL8p"
      },
      "execution_count": null,
      "outputs": []
    },
    {
      "cell_type": "code",
      "source": [],
      "metadata": {
        "id": "FZJVgv1niIy_"
      },
      "execution_count": null,
      "outputs": []
    },
    {
      "cell_type": "code",
      "source": [],
      "metadata": {
        "id": "rgHB1tGsnIot"
      },
      "execution_count": null,
      "outputs": []
    },
    {
      "cell_type": "code",
      "source": [],
      "metadata": {
        "id": "hnGWCDoplTHE"
      },
      "execution_count": null,
      "outputs": []
    },
    {
      "cell_type": "code",
      "source": [],
      "metadata": {
        "id": "isBcbVV2bQE9"
      },
      "execution_count": null,
      "outputs": []
    },
    {
      "cell_type": "code",
      "source": [],
      "metadata": {
        "id": "QvkoS82yareN"
      },
      "execution_count": null,
      "outputs": []
    },
    {
      "cell_type": "code",
      "source": [],
      "metadata": {
        "id": "8a9N89zPaqOm"
      },
      "execution_count": null,
      "outputs": []
    },
    {
      "cell_type": "code",
      "source": [],
      "metadata": {
        "id": "xx8PBtGHMOra"
      },
      "execution_count": null,
      "outputs": []
    },
    {
      "cell_type": "code",
      "source": [],
      "metadata": {
        "id": "XNxdMlM3MM8L"
      },
      "execution_count": null,
      "outputs": []
    },
    {
      "cell_type": "code",
      "source": [],
      "metadata": {
        "id": "sn8ITNc_MIsD"
      },
      "execution_count": null,
      "outputs": []
    },
    {
      "cell_type": "code",
      "source": [],
      "metadata": {
        "id": "WgbUyO34L_yC"
      },
      "execution_count": null,
      "outputs": []
    },
    {
      "cell_type": "code",
      "source": [],
      "metadata": {
        "id": "ZUqeL5PcAJfy"
      },
      "execution_count": null,
      "outputs": []
    },
    {
      "cell_type": "code",
      "source": [],
      "metadata": {
        "id": "CyEwneCKAEEd"
      },
      "execution_count": null,
      "outputs": []
    },
    {
      "cell_type": "code",
      "source": [],
      "metadata": {
        "id": "ctZc2Xir_rfT"
      },
      "execution_count": null,
      "outputs": []
    },
    {
      "cell_type": "code",
      "source": [],
      "metadata": {
        "id": "r8WY7teIqzyC"
      },
      "execution_count": null,
      "outputs": []
    },
    {
      "cell_type": "code",
      "source": [],
      "metadata": {
        "id": "J1tAKdBaqxWC"
      },
      "execution_count": null,
      "outputs": []
    },
    {
      "cell_type": "code",
      "source": [],
      "metadata": {
        "id": "hHf88saMVb-s"
      },
      "execution_count": null,
      "outputs": []
    },
    {
      "cell_type": "code",
      "source": [],
      "metadata": {
        "id": "WsaoUzNpRJ-6"
      },
      "execution_count": null,
      "outputs": []
    },
    {
      "cell_type": "code",
      "source": [],
      "metadata": {
        "id": "lVcWrXPiRHYL"
      },
      "execution_count": null,
      "outputs": []
    },
    {
      "cell_type": "code",
      "source": [],
      "metadata": {
        "id": "BtkpgtsdRImV"
      },
      "execution_count": null,
      "outputs": []
    },
    {
      "cell_type": "code",
      "source": [],
      "metadata": {
        "id": "i5EEtbh5RJb6"
      },
      "execution_count": null,
      "outputs": []
    },
    {
      "cell_type": "code",
      "source": [],
      "metadata": {
        "id": "WU0PRVcXRFGc"
      },
      "execution_count": null,
      "outputs": []
    },
    {
      "cell_type": "code",
      "source": [],
      "metadata": {
        "id": "cuRPxWH4Pzu5"
      },
      "execution_count": null,
      "outputs": []
    },
    {
      "cell_type": "code",
      "source": [],
      "metadata": {
        "id": "OmLoxD9PP0Xz"
      },
      "execution_count": null,
      "outputs": []
    },
    {
      "cell_type": "code",
      "source": [],
      "metadata": {
        "id": "nEvWQwUYPw2p"
      },
      "execution_count": null,
      "outputs": []
    },
    {
      "cell_type": "code",
      "source": [],
      "metadata": {
        "id": "i0NVJCtqPx61"
      },
      "execution_count": null,
      "outputs": []
    },
    {
      "cell_type": "code",
      "source": [],
      "metadata": {
        "id": "tAKSa6QiPuGB"
      },
      "execution_count": null,
      "outputs": []
    },
    {
      "cell_type": "code",
      "source": [],
      "metadata": {
        "id": "aYiwp_QEPpUC"
      },
      "execution_count": null,
      "outputs": []
    },
    {
      "cell_type": "code",
      "source": [],
      "metadata": {
        "id": "EaL5EoiYPqz9"
      },
      "execution_count": null,
      "outputs": []
    },
    {
      "cell_type": "code",
      "source": [],
      "metadata": {
        "id": "kvq-147dPlOq"
      },
      "execution_count": null,
      "outputs": []
    },
    {
      "cell_type": "code",
      "source": [],
      "metadata": {
        "id": "3Sb-QjvI-YR0"
      },
      "execution_count": null,
      "outputs": []
    },
    {
      "cell_type": "markdown",
      "source": [],
      "metadata": {
        "id": "X3AAtisL5Hg7"
      }
    },
    {
      "cell_type": "code",
      "source": [],
      "metadata": {
        "id": "i05OTBek_OFy"
      },
      "execution_count": null,
      "outputs": []
    },
    {
      "cell_type": "code",
      "source": [],
      "metadata": {
        "id": "xdGK73mx_ODq"
      },
      "execution_count": null,
      "outputs": []
    },
    {
      "cell_type": "code",
      "source": [],
      "metadata": {
        "id": "NAgYPvaw_OBL"
      },
      "execution_count": null,
      "outputs": []
    },
    {
      "cell_type": "code",
      "source": [],
      "metadata": {
        "id": "2bHbyYoa_N-k"
      },
      "execution_count": null,
      "outputs": []
    },
    {
      "cell_type": "code",
      "source": [],
      "metadata": {
        "id": "c6fJu8Gi_N76"
      },
      "execution_count": null,
      "outputs": []
    },
    {
      "cell_type": "code",
      "source": [],
      "metadata": {
        "id": "CcW5vwOV_N5S"
      },
      "execution_count": null,
      "outputs": []
    },
    {
      "cell_type": "code",
      "source": [],
      "metadata": {
        "id": "DH7yA_AP_NMy"
      },
      "execution_count": null,
      "outputs": []
    },
    {
      "cell_type": "code",
      "source": [],
      "metadata": {
        "id": "h9KURKbe_NKi"
      },
      "execution_count": null,
      "outputs": []
    },
    {
      "cell_type": "code",
      "source": [],
      "metadata": {
        "id": "1D3KXWjY_NIC"
      },
      "execution_count": null,
      "outputs": []
    },
    {
      "cell_type": "code",
      "source": [],
      "metadata": {
        "id": "cAOXbY93_NFx"
      },
      "execution_count": null,
      "outputs": []
    },
    {
      "cell_type": "code",
      "source": [],
      "metadata": {
        "id": "dRFxZAm9_NBK"
      },
      "execution_count": null,
      "outputs": []
    },
    {
      "cell_type": "code",
      "source": [],
      "metadata": {
        "id": "ysw8NAIq_M_C"
      },
      "execution_count": null,
      "outputs": []
    },
    {
      "cell_type": "code",
      "source": [],
      "metadata": {
        "id": "Sm7n0aiF_M83"
      },
      "execution_count": null,
      "outputs": []
    },
    {
      "cell_type": "code",
      "source": [],
      "metadata": {
        "id": "56BzA9IR_M6c"
      },
      "execution_count": null,
      "outputs": []
    },
    {
      "cell_type": "code",
      "source": [],
      "metadata": {
        "id": "FNr5GCge_M10"
      },
      "execution_count": null,
      "outputs": []
    },
    {
      "cell_type": "code",
      "source": [],
      "metadata": {
        "id": "ZmHOth7Q_Mzi"
      },
      "execution_count": null,
      "outputs": []
    },
    {
      "cell_type": "code",
      "source": [],
      "metadata": {
        "id": "Fa_v_z5E_Mxc"
      },
      "execution_count": null,
      "outputs": []
    },
    {
      "cell_type": "code",
      "source": [],
      "metadata": {
        "id": "xInn5Qpc_MvC"
      },
      "execution_count": null,
      "outputs": []
    },
    {
      "cell_type": "code",
      "source": [],
      "metadata": {
        "id": "1vCgExW7_Mss"
      },
      "execution_count": null,
      "outputs": []
    },
    {
      "cell_type": "code",
      "source": [],
      "metadata": {
        "id": "P4f_pcsD_Mqk"
      },
      "execution_count": null,
      "outputs": []
    },
    {
      "cell_type": "code",
      "source": [],
      "metadata": {
        "id": "pQ7WEStt_MoS"
      },
      "execution_count": null,
      "outputs": []
    },
    {
      "cell_type": "code",
      "source": [],
      "metadata": {
        "id": "TQHkyEtw_MmC"
      },
      "execution_count": null,
      "outputs": []
    },
    {
      "cell_type": "code",
      "source": [],
      "metadata": {
        "id": "n8fdnlon_Mj6"
      },
      "execution_count": null,
      "outputs": []
    },
    {
      "cell_type": "code",
      "source": [],
      "metadata": {
        "id": "saGVZe9E_Mhd"
      },
      "execution_count": null,
      "outputs": []
    },
    {
      "cell_type": "code",
      "source": [],
      "metadata": {
        "id": "Yf8NJ6Ts_Me6"
      },
      "execution_count": null,
      "outputs": []
    },
    {
      "cell_type": "code",
      "source": [],
      "metadata": {
        "id": "qUqENDKE_MX6"
      },
      "execution_count": null,
      "outputs": []
    }
  ]
}