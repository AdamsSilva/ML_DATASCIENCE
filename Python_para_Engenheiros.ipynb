{
  "nbformat": 4,
  "nbformat_minor": 0,
  "metadata": {
    "colab": {
      "provenance": [],
      "authorship_tag": "ABX9TyOU/sNkErrwIHsXreuLU9Qx",
      "include_colab_link": true
    },
    "kernelspec": {
      "name": "python3",
      "display_name": "Python 3"
    },
    "language_info": {
      "name": "python"
    }
  },
  "cells": [
    {
      "cell_type": "markdown",
      "metadata": {
        "id": "view-in-github",
        "colab_type": "text"
      },
      "source": [
        "<a href=\"https://colab.research.google.com/github/AdamsSilva/ML_DATASCIENCE/blob/main/Python_para_Engenheiros.ipynb\" target=\"_parent\"><img src=\"https://colab.research.google.com/assets/colab-badge.svg\" alt=\"Open In Colab\"/></a>"
      ]
    },
    {
      "cell_type": "code",
      "execution_count": null,
      "metadata": {
        "id": "VlTwvUNsBlLm"
      },
      "outputs": [],
      "source": []
    },
    {
      "cell_type": "code",
      "source": [
        "from time import time\n",
        "\n",
        "lista_1 = list(range(10**6))\n",
        "soma_1 = 0\n",
        "\n",
        "for i in lista_1:\n",
        "  soma_1 +=i\n",
        "print(soma_1)\n",
        "print(tempo_1)\n",
        "\n",
        "inicio = time()\n",
        "fim = time()\n",
        "tempo_1 = fim - inicio"
      ],
      "metadata": {
        "colab": {
          "base_uri": "https://localhost:8080/"
        },
        "id": "kGdF8_rFFi5Z",
        "outputId": "50c49ebf-9c1c-4a0f-b115-3de62be1524d"
      },
      "execution_count": 5,
      "outputs": [
        {
          "output_type": "stream",
          "name": "stdout",
          "text": [
            "499999500000\n",
            "3.7670135498046875e-05\n"
          ]
        }
      ]
    },
    {
      "cell_type": "code",
      "source": [
        "import numpy as np\n",
        "arr = np.array(lista_1, dtype=float)\n",
        "soma_2 = arr.sum()\n",
        "\n",
        "fim = time()\n",
        "tempo_2 = fim - inicio\n",
        "print(soma_2)\n",
        "print(tempo_2)\n"
      ],
      "metadata": {
        "colab": {
          "base_uri": "https://localhost:8080/"
        },
        "id": "2gN7S5yJFwBd",
        "outputId": "173eba99-ba6d-43ce-c1ce-664d24ae5695"
      },
      "execution_count": 7,
      "outputs": [
        {
          "output_type": "stream",
          "name": "stdout",
          "text": [
            "499999500000.0\n",
            "324.7367956638336\n"
          ]
        }
      ]
    },
    {
      "cell_type": "code",
      "source": [
        "tempo_2/tempo_1"
      ],
      "metadata": {
        "colab": {
          "base_uri": "https://localhost:8080/"
        },
        "id": "ZiwGpFxjG-5p",
        "outputId": "b88cae47-8381-4a0f-b3f5-594e3e4a2f42"
      },
      "execution_count": 8,
      "outputs": [
        {
          "output_type": "execute_result",
          "data": {
            "text/plain": [
              "6644121.175609756"
            ]
          },
          "metadata": {},
          "execution_count": 8
        }
      ]
    },
    {
      "cell_type": "code",
      "source": [],
      "metadata": {
        "id": "_E6StArZII-9"
      },
      "execution_count": null,
      "outputs": []
    }
  ]
}