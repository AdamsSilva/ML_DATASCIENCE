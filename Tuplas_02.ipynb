{
  "cells": [
    {
      "cell_type": "markdown",
      "metadata": {
        "id": "view-in-github",
        "colab_type": "text"
      },
      "source": [
        "<a href=\"https://colab.research.google.com/github/AdamsSilva/ML_DATASCIENCE/blob/main/Tuplas_02.ipynb\" target=\"_parent\"><img src=\"https://colab.research.google.com/assets/colab-badge.svg\" alt=\"Open In Colab\"/></a>"
      ]
    },
    {
      "cell_type": "markdown",
      "metadata": {
        "id": "pGyJ61Kq13ha"
      },
      "source": [
        "# Tuplas\n",
        "\n",
        "### Estrutura:\n",
        "\n",
        "tupla = (valor, valor, valor, ...)\n",
        "\n",
        "### Diferença\n",
        "\n",
        "Parece uma lista, mas é imutável.\n",
        "\n",
        "### Vantagens:\n",
        "\n",
        "- Mais eficiente (em termos de performance)\n",
        "- Protege a base de dados (por ser imutável)\n",
        "- Muito usado para dados heterogêneos\n",
        "\n",
        "### Criando tuplas"
      ]
    },
    {
      "cell_type": "code",
      "execution_count": 6,
      "metadata": {
        "colab": {
          "base_uri": "https://localhost:8080/"
        },
        "id": "sC1-imZD13hc",
        "outputId": "7fd0b030-0705-4aec-d70d-80ae1821add8"
      },
      "outputs": [
        {
          "output_type": "stream",
          "name": "stdout",
          "text": [
            "('Lira', '25/08/2020', '15/02/1994', 2000, 'Estagiário')\n"
          ]
        }
      ],
      "source": [
        "vendas = ('Lira', '25/08/2020', '15/02/1994', 2000, 'Estagiário')\n",
        "print(vendas)"
      ]
    },
    {
      "cell_type": "markdown",
      "metadata": {
        "id": "U0_jCIbh13hd"
      },
      "source": [
        "### Acessando o valor de uma tupla"
      ]
    },
    {
      "cell_type": "code",
      "execution_count": 7,
      "metadata": {
        "id": "BgyvW9tx13hd"
      },
      "outputs": [],
      "source": []
    },
    {
      "cell_type": "markdown",
      "metadata": {
        "id": "xELsp9yL13he"
      },
      "source": [
        "- o enumerate que vínhamos usando até agora, na verdade, cria uma tupla para a gente. Vamos ver na prática:"
      ]
    },
    {
      "cell_type": "code",
      "execution_count": 5,
      "metadata": {
        "colab": {
          "base_uri": "https://localhost:8080/"
        },
        "id": "hoJUjWPJ13he",
        "outputId": "15333573-6a8e-4347-ed8c-cf272eeb3680"
      },
      "outputs": [
        {
          "output_type": "stream",
          "name": "stdout",
          "text": [
            "[1000, 2000, 300, 300, 150]\n",
            "[1000, 2000, 300, 300, 150]\n",
            "[1000, 2000, 300, 300, 150]\n",
            "[1000, 2000, 300, 300, 150]\n",
            "[1000, 2000, 300, 300, 150]\n"
          ]
        }
      ],
      "source": [
        "vendas = [1000, 2000, 300, 300, 150]\n",
        "funcionarios = ['João', 'Lira', 'Ana', 'Maria', 'Paula']\n",
        "\n",
        "for i, venda in enumerate(vendas):\n",
        "        #print('{} vendeu {} unidades'.format(funcionarios[i], venda))\n",
        "        print(vendas)"
      ]
    }
  ],
  "metadata": {
    "kernelspec": {
      "display_name": "Python 3",
      "language": "python",
      "name": "python3"
    },
    "language_info": {
      "codemirror_mode": {
        "name": "ipython",
        "version": 3
      },
      "file_extension": ".py",
      "mimetype": "text/x-python",
      "name": "python",
      "nbconvert_exporter": "python",
      "pygments_lexer": "ipython3",
      "version": "3.8.3"
    },
    "colab": {
      "provenance": [],
      "include_colab_link": true
    }
  },
  "nbformat": 4,
  "nbformat_minor": 0
}